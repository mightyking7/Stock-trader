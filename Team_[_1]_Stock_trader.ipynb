{
  "nbformat": 4,
  "nbformat_minor": 0,
  "metadata": {
    "colab": {
      "name": "Team_[_1]_Stock_trader.ipynb",
      "version": "0.3.2",
      "provenance": [],
      "collapsed_sections": [],
      "include_colab_link": true
    },
    "kernelspec": {
      "name": "python3",
      "display_name": "Python 3"
    }
  },
  "cells": [
    {
      "cell_type": "markdown",
      "metadata": {
        "id": "view-in-github",
        "colab_type": "text"
      },
      "source": [
        "<a href=\"https://colab.research.google.com/github/mightyking7/Stock-trader/blob/master/Team_%5B_1%5D_Stock_trader.ipynb\" target=\"_parent\"><img src=\"https://colab.research.google.com/assets/colab-badge.svg\" alt=\"Open In Colab\"/></a>"
      ]
    },
    {
      "cell_type": "markdown",
      "metadata": {
        "id": "dWwauykRe5oj",
        "colab_type": "text"
      },
      "source": [
        "# Introduction\n",
        "Our project aimed to visualize historical stock prices, to gain insight from past trends, and to use machine learning to predict future prices. Our team met every monday to collaboratively develop and discuss the direction of the project. We used Git as our version control system and google colab as our development enviornment. \n"
      ]
    },
    {
      "cell_type": "markdown",
      "metadata": {
        "id": "MGC5Ih3qfpAp",
        "colab_type": "text"
      },
      "source": [
        "# Data\n",
        "Our data sets were pulled from Yahoo finance as csv files using a bash script. For the current version of the project, however, only price points until April 4th are analyzed to reduce execution time. Each quote is a sequence of records that show the open price, high price, low price, close price, adj close price, and volume for a stock from it's IPO date (initial public offering) until April 4th. To preprocess our data, we read each stock as a csv file into a data frame using pandas' read_csv() method. The data frame was then stored in a dictionary of dataframes keyed by the stock's ticker."
      ]
    },
    {
      "cell_type": "markdown",
      "metadata": {
        "id": "Nr10mOo4HCg8",
        "colab_type": "text"
      },
      "source": [
        "# Data Collection"
      ]
    },
    {
      "cell_type": "markdown",
      "metadata": {
        "id": "AbHjYlV3GsOB",
        "colab_type": "text"
      },
      "source": [
        "**Unzip stock to have access to files in notebook enviorment**\n",
        "- using in google colab"
      ]
    },
    {
      "cell_type": "code",
      "metadata": {
        "id": "aFsQe-BHGRQR",
        "colab_type": "code",
        "outputId": "ef999160-f6d6-4fca-c9cd-4ded38f22d2a",
        "colab": {
          "base_uri": "https://localhost:8080/",
          "height": 407
        }
      },
      "source": [
        "!pip install https://github.com/matplotlib/mpl_finance/archive/master.zip\n",
        "!pip install h5py\n",
        "import numpy as np\n",
        "import pandas as pd\n",
        "from statistics import mean\n",
        "import datetime\n",
        "import matplotlib.pyplot as plt\n",
        "import matplotlib.dates as mdates\n",
        "from mpl_finance import candlestick_ohlc\n",
        "import os\n",
        "import sys\n",
        "import zipfile\n",
        "\n",
        "#importing required libraries for keras\n",
        "from sklearn.preprocessing import MinMaxScaler\n",
        "from keras.models import Sequential, load_model\n",
        "from keras.layers import Dense, Dropout, LSTM\n",
        "from keras.utils import print_summary\n",
        "\n",
        "zname = 'stocks.zip'\n",
        "\n",
        "with zipfile.ZipFile(zname,'r') as zip_ref:\n",
        "  zip_ref.extractall()"
      ],
      "execution_count": 0,
      "outputs": [
        {
          "output_type": "stream",
          "text": [
            "Collecting https://github.com/matplotlib/mpl_finance/archive/master.zip\n",
            "\u001b[?25l  Downloading https://github.com/matplotlib/mpl_finance/archive/master.zip\n",
            "\u001b[K     - 706kB 1.6MB/s\n",
            "\u001b[?25hRequirement already satisfied: matplotlib in /usr/local/lib/python3.6/dist-packages (from mpl-finance==0.10.0) (3.0.3)\n",
            "Requirement already satisfied: numpy>=1.10.0 in /usr/local/lib/python3.6/dist-packages (from matplotlib->mpl-finance==0.10.0) (1.16.3)\n",
            "Requirement already satisfied: cycler>=0.10 in /usr/local/lib/python3.6/dist-packages (from matplotlib->mpl-finance==0.10.0) (0.10.0)\n",
            "Requirement already satisfied: kiwisolver>=1.0.1 in /usr/local/lib/python3.6/dist-packages (from matplotlib->mpl-finance==0.10.0) (1.1.0)\n",
            "Requirement already satisfied: pyparsing!=2.0.4,!=2.1.2,!=2.1.6,>=2.0.1 in /usr/local/lib/python3.6/dist-packages (from matplotlib->mpl-finance==0.10.0) (2.4.0)\n",
            "Requirement already satisfied: python-dateutil>=2.1 in /usr/local/lib/python3.6/dist-packages (from matplotlib->mpl-finance==0.10.0) (2.5.3)\n",
            "Requirement already satisfied: six in /usr/local/lib/python3.6/dist-packages (from cycler>=0.10->matplotlib->mpl-finance==0.10.0) (1.12.0)\n",
            "Requirement already satisfied: setuptools in /usr/local/lib/python3.6/dist-packages (from kiwisolver>=1.0.1->matplotlib->mpl-finance==0.10.0) (41.0.1)\n",
            "Building wheels for collected packages: mpl-finance\n",
            "  Building wheel for mpl-finance (setup.py) ... \u001b[?25l\u001b[?25hdone\n",
            "  Stored in directory: /tmp/pip-ephem-wheel-cache-qyrw6zz2/wheels/8f/bf/8a/6c858b2a3be945c7b2d658fbf6ab797b451d686cbee8aa2679\n",
            "Successfully built mpl-finance\n",
            "Installing collected packages: mpl-finance\n",
            "Successfully installed mpl-finance-0.10.0\n",
            "Requirement already satisfied: h5py in /usr/local/lib/python3.6/dist-packages (2.8.0)\n",
            "Requirement already satisfied: six in /usr/local/lib/python3.6/dist-packages (from h5py) (1.12.0)\n",
            "Requirement already satisfied: numpy>=1.7 in /usr/local/lib/python3.6/dist-packages (from h5py) (1.16.3)\n"
          ],
          "name": "stdout"
        },
        {
          "output_type": "stream",
          "text": [
            "Using TensorFlow backend.\n"
          ],
          "name": "stderr"
        }
      ]
    },
    {
      "cell_type": "markdown",
      "metadata": {
        "id": "QacR5YCGGeo6",
        "colab_type": "text"
      },
      "source": [
        "**Import all information from quotes from their .csv's**'\n",
        "- date', 'open', 'high', 'low', 'close', 'adjclose', 'volume' for each stock"
      ]
    },
    {
      "cell_type": "code",
      "metadata": {
        "id": "cWhF3YQAGfHv",
        "colab_type": "code",
        "colab": {}
      },
      "source": [
        "# All lists and Dictionaries ordered from most recent to oldest\n",
        "dfdic = {}\n",
        "failed = []\n",
        "\n",
        "# Date,Open,High,Low,Close,Adj Close,Volume\n",
        "# 1980-12-12,0.513393,0.515625,0.513393,0.513393,0.023007,117258400\n",
        "# 1980-12-15,0.488839,0.488839,0.486607,0.486607,null,43971200\n",
        "# ...\n",
        "dirpath = 'stocks/quotes'\n",
        "for file in os.listdir(dirpath):\n",
        "    symbol = os.path.splitext(file)[0]\n",
        "    #print('Stock:',symbol)\n",
        "    path = dirpath + '/' + file\n",
        "    try:\n",
        "      dfdic[symbol] = pd.read_csv(path)\n",
        "      dfdic[symbol].Date = pd.to_datetime(dfdic[symbol].Date, format='%Y-%m-%d')\n",
        "    except pd.errors.ParserError:\n",
        "      failed.append(symbol)\n",
        "      continue\n",
        "    except AttributeError:\n",
        "      failed.append(symbol)\n",
        "      continue\n",
        "  \n"
      ],
      "execution_count": 0,
      "outputs": []
    },
    {
      "cell_type": "markdown",
      "metadata": {
        "id": "seCfabRegxX5",
        "colab_type": "text"
      },
      "source": [
        "# Analysis\n",
        "Our analysis tasks consisted of calculating the Simple Moving Average, Exponential Moving Average, and momentum for each stock. \n",
        "We also created a machine learning model to predicted future prices for a specified time period."
      ]
    },
    {
      "cell_type": "markdown",
      "metadata": {
        "id": "PuRnS4ifHR7y",
        "colab_type": "text"
      },
      "source": [
        "##SMA\n",
        "\n",
        "**Calculate Simple Moving Average using Pandas**\n",
        "\n",
        "The task in this section was to calculate the simple moving average for the stock over a specified period. A simple moving average (SMA) is an arithmetic moving average calculated by adding recent closing prices and then dividing that by the number of time periods in the calculation average. SMA is often used to determine if an asset price will stay stagnant or follow a bull or bear trend. The caclSMA() function below calculates SMA for the given time period. The function returns a dictionay where the key is a stock's symbol and the value is a pandas DataFrame with the SMA for that day."
      ]
    },
    {
      "cell_type": "code",
      "metadata": {
        "id": "IAv_z6D8HSNR",
        "colab_type": "code",
        "colab": {}
      },
      "source": [
        "sma_dic = {}\n",
        "\n",
        "def calcSMA(period):\n",
        "  global sma_dic \n",
        "  start = 0\n",
        "  sma = 0\n",
        "  for sym,val in dfdic.items():\n",
        "    if not sym in sma_dic.keys():\n",
        "      try:\n",
        "        df = pd.DataFrame()\n",
        "        df['Date'] = dfdic[sym]['Date']\n",
        "      except KeyError:\n",
        "        continue\n",
        "    else:\n",
        "      df = sma_dic[sym]\n",
        "      \n",
        "    #check if length of all closing values is bigger than the period\n",
        "    val = val.loc[:,'Close'].copy()\n",
        "    if val.size-period < 0:\n",
        "      #print(val,\"closing array length of:\",val.size,\"...expected ~\",start+period-1)\n",
        "      continue\n",
        "    #get the SMA for each stock with pandas\n",
        "    sma = val.rolling(window=period).mean()\n",
        "    df[period] = sma\n",
        "    \n",
        "    #Add to temp dictionary with key being the symbol and value is SMA\n",
        "    sma_dic[sym] = df\n",
        "    \n"
      ],
      "execution_count": 0,
      "outputs": []
    },
    {
      "cell_type": "markdown",
      "metadata": {
        "id": "gymKr3qLHhrU",
        "colab_type": "text"
      },
      "source": [
        "##EMA\n",
        "\n",
        "**Calculate the Exponential Moving Average**\n",
        "\n",
        "The exponential moving average (EMA) is a weighted moving average that gives more weighting to recent changes in a stock’s price than the SMA. The EMA was calculated by getting the SMA for the stock, calculating the multiplier for weighting the EMA, and then applying the multiplier to the SMA and the EMA for a previous period. The EMA is often used to predict buy and sell signals based on divergences from the stock’s historical average. The function below calculates the EMA for a given period. It returns a dictionay where the key is the stock's symbol and the value is a pandas DataFrame with the EMA for each day."
      ]
    },
    {
      "cell_type": "code",
      "metadata": {
        "id": "CnfwictjHh2N",
        "colab_type": "code",
        "colab": {}
      },
      "source": [
        "ema_dic = {}\n",
        "\n",
        "def calcEMA(period):\n",
        "  global ema_dic \n",
        "  start = 0\n",
        "  ema = 0\n",
        "\n",
        "  for sym,val in dfdic.items():\n",
        "    if not sym in ema_dic.keys():\n",
        "      try:\n",
        "        df = pd.DataFrame()\n",
        "        df['Date'] = dfdic[sym]['Date']\n",
        "      except KeyError:\n",
        "        continue\n",
        "    else:\n",
        "      df = ema_dic[sym]\n",
        "    \n",
        "    #check if length of all closing values is bigger than the period\n",
        "    val = val.loc[:,'Close'].copy()\n",
        "    if val.size-period < 0:\n",
        "      print(val,\"closing array length of:\",val.size,\"...expected ~\", start+period-1)\n",
        "      continue\n",
        "    #get the EMA using pandas\n",
        "    ema = val.ewm(span=period, adjust=False).mean()\n",
        "    df[period] = ema\n",
        "    \n",
        "    #add to dictionary with key being the symbol and value is a pandas DataFrame\n",
        "    ema_dic[sym] = df\n"
      ],
      "execution_count": 0,
      "outputs": []
    },
    {
      "cell_type": "markdown",
      "metadata": {
        "id": "RXJnRFQFICzv",
        "colab_type": "text"
      },
      "source": [
        "##Momentum\n",
        "\n",
        "**Calculate Momentum**\n",
        "\n",
        "We borrowed from the field of astrophysics to calculate the momentum of a given stock. This is a kinematic principle that describes the motions of objects without understanding the underlying forces at play. This is a basic implementation of momentum, and we need to do more research on how exactly to apply it to trading."
      ]
    },
    {
      "cell_type": "code",
      "metadata": {
        "id": "UI5afecSICPs",
        "colab_type": "code",
        "colab": {}
      },
      "source": [
        "def getmom(period=3):\n",
        "  #temp dictionary to return\n",
        "  temp = {}\n",
        "  title = str(period)+'_day_momentum'\n",
        "  #each symbol and corresponding dataframe\n",
        "  for sym,val in dfdic.items():\n",
        "    df = pd.DataFrame()\n",
        "    #calculate percent change between current and prior element\n",
        "    try:\n",
        "      df['pct'] = val.loc[:,'Close'].copy().pct_change()\n",
        "      #if the pct is > 0, 1 else -1, which is momentum\n",
        "      df['momentum'] = np.where(df['pct'] > 0, 1,-1)  \n",
        "      #make the rows the date\n",
        "      df[title] = df.momentum.rolling(period).mean()\n",
        "      df.index = val.Date\n",
        "      temp[sym] = df    \n",
        "    except KeyError:\n",
        "      continue\n",
        "      \n",
        "  return temp\n",
        "\n",
        "momentum = getmom()"
      ],
      "execution_count": 0,
      "outputs": []
    },
    {
      "cell_type": "markdown",
      "metadata": {
        "id": "U6mTNbaE1Ady",
        "colab_type": "text"
      },
      "source": [
        "##**Machine Learning Model (v1.1)**\n",
        "**Calculate Predictions**\n",
        "\n",
        "We created a machine learning model from LSTM (Long Short Term Memory)\n"
      ]
    },
    {
      "cell_type": "code",
      "metadata": {
        "id": "TmCXPxKa1GP7",
        "colab_type": "code",
        "colab": {}
      },
      "source": [
        "one_yr = 254 #number of trade days in a year = 254 (ie 10 years)\n",
        "predict_dic = {}\n",
        "rms_dic = {}\n",
        "avg_dif_dic = {}\n",
        "avg_perc_dif_dic = {}\n",
        "\n",
        "#all examples use AAPL\n",
        "def predict_LSTM(symbol, pred_days):\n",
        "  #pred_days = one_yr\n",
        "  hist_days = 5 * pred_days\n",
        "  title = 'stocks/models/' + symbol + '.h5'\n",
        "  \n",
        "  #make new dataframe with just date and close\n",
        "  new_data = dfdic[symbol][['Date','Close']].tail(pred_days + hist_days)\n",
        "    \n",
        "  #setting index\n",
        "  new_data = new_data.loc[new_data.Date.notnull()]\n",
        "  new_data = new_data.loc[new_data.Close.notnull()]\n",
        "  new_data.set_index('Date', drop=True, inplace=True)\n",
        "  \n",
        "  #creating train and test sets\n",
        "  dataset = new_data.values\n",
        "  \n",
        "  train = dataset[0:-pred_days,:]\n",
        "  valid = dataset[-pred_days:,:]\n",
        "\n",
        "  #converting dataset into x_train and y_train\n",
        "  scaler = MinMaxScaler(feature_range=(0, 1))\n",
        "  scaled_data = scaler.fit_transform(dataset)\n",
        "    \n",
        "  x_train, y_train = [], []\n",
        "  for i in range(60,len(train)):\n",
        "    x_train.append(scaled_data[i-60:i,0])\n",
        "    y_train.append(scaled_data[i,0])\n",
        "  x_train, y_train = np.array(x_train), np.array(y_train)\n",
        "\n",
        "  #print('x_train shape before reshape: ', x_train.shape())\n",
        "  x_train = x_train.reshape(x_train.shape[0],x_train.shape[1],1)\n",
        "    \n",
        "  # create and fit the LSTM network\n",
        "  model = Sequential()\n",
        "  model.add(LSTM(units=50, return_sequences=True, input_shape=(x_train.shape[1],1)))\n",
        "  model.add(LSTM(units=50))\n",
        "  model.add(Dense(1))\n",
        "  \n",
        "  print('Loading %s Data for %d years' %(symbol,(hist_days/pred_days)))\n",
        "  model.compile(loss='mean_squared_error', optimizer='adam')\n",
        "  print_summary(model)\n",
        "  model.fit(x_train, y_train, epochs=1, batch_size=1, verbose=1) # THIS LINE TAKES FOREVER!!!!!!!\n",
        "  \n",
        "  # save the shit\n",
        "  model.save(title)\n",
        "  \n",
        "  #predicting 246 values, using past 60 from the train data\n",
        "  inputs = new_data[len(new_data) - len(valid) - 60:].values\n",
        "  inputs = inputs.reshape(-1,1)\n",
        "  inputs  = scaler.transform(inputs)\n",
        "  \n",
        "  X_test = []\n",
        "  for i in range(60,inputs.shape[0]):\n",
        "    X_test.append(inputs[i-60:i,0])\n",
        "  X_test = np.array(X_test)\n",
        "  \n",
        "  X_test = np.reshape(X_test, (X_test.shape[0],X_test.shape[1],1))\n",
        "  closing_price = model.predict(X_test)\n",
        "  closing_price = scaler.inverse_transform(closing_price)\n",
        "  \n",
        "\n",
        "  #Results\n",
        "  rms = np.sqrt(np.mean(np.power((valid-closing_price),2)))\n",
        "  rms_dic[symbol] = rms\n",
        "  #print('RMS Results: ', rms)\n",
        "  \n",
        "  #get predictions and add to table\n",
        "  train = new_data[:-pred_days+1].copy()\n",
        "  valid = new_data[-pred_days:].copy()\n",
        "  valid['Predictions'] = closing_price\n",
        "  #new_data = pd.concat([new_data, valid], sort=True)\n",
        "  new_data['Predictions'] = valid['Predictions']\n",
        "  \n",
        "  #calculate difference and percent error\n",
        "  new_data['Difference']  = new_data['Predictions'] - new_data['Close']\n",
        "  new_data['Difference'] = new_data['Difference'].abs()\n",
        "  new_data['% Error'] = (new_data['Difference'] / new_data['Close']) * 100\n",
        "  \n",
        "  #calculate average of difference and percent error\n",
        "  avg_dif_error = new_data['Difference'].mean()\n",
        "  avg_perc_error = new_data['% Error'].mean()\n",
        "  \n",
        "  #add averages to appropriate dictionaries\n",
        "  avg_dif_dic[symbol] = avg_dif_error\n",
        "  avg_perc_dif_dic[symbol] = avg_perc_error\n",
        "  \n",
        "  predict_dic[symbol] = new_data  \n",
        "\n",
        "  \n",
        "  \n",
        "def reload_model():\n",
        "  for file in os.listdir('stocks/models/'):\n",
        "    tok = file.split('.')\n",
        "    if tok[1] != 'h5':\n",
        "      continue\n",
        "    model = load_model(file)\n",
        "    #predicting 246 values, using past 60 from the train data\n",
        "    inputs = new_data[len(new_data) - len(valid) - 60:].values\n",
        "    inputs = inputs.reshape(-1,1)\n",
        "    inputs  = scaler.transform(inputs)\n",
        "\n",
        "    X_test = []\n",
        "    for i in range(60,inputs.shape[0]):\n",
        "      X_test.append(inputs[i-60:i,0])\n",
        "    X_test = np.array(X_test)\n",
        "\n",
        "    X_test = np.reshape(X_test, (X_test.shape[0],X_test.shape[1],1))\n",
        "    closing_price = model.predict(X_test)\n",
        "    closing_price = scaler.inverse_transform(closing_price)\n",
        "\n",
        "\n",
        "    #Results\n",
        "    rms = np.sqrt(np.mean(np.power((valid-closing_price),2)))\n",
        "    rms_dic[symbol] = rms\n",
        "    #print('RMS Results: ', rms)\n",
        "\n",
        "    #get predictions and add to table\n",
        "    train = new_data[:-pred_days+1].copy()\n",
        "    valid = new_data[-pred_days:].copy()\n",
        "    valid['Predictions'] = closing_price\n",
        "    #new_data = pd.concat([new_data, valid], sort=True)\n",
        "    new_data['Predictions'] = valid['Predictions']\n",
        "\n",
        "    #calculate difference and percent error\n",
        "    new_data['Difference']  = new_data['Predictions'] - new_data['Close']\n",
        "    new_data['Difference'] = new_data['Difference'].abs()\n",
        "    new_data['% Error'] = (new_data['Difference'] / new_data['Close']) * 100\n",
        "\n",
        "    #calculate average of difference and percent error\n",
        "    avg_dif_error = new_data['Difference'].mean()\n",
        "    avg_perc_error = new_data['% Error'].mean()\n",
        "\n",
        "    #add averages to appropriate dictionaries\n",
        "    avg_dif_dic[symbol] = avg_dif_error\n",
        "    avg_perc_dif_dic[symbol] = avg_perc_error\n",
        "\n",
        "    predict_dic[symbol] = new_data\n",
        "\n",
        "\n",
        "#predict_LSTM('AAPL', one_yr)\n",
        "#predict_dic['AAPL']"
      ],
      "execution_count": 0,
      "outputs": []
    },
    {
      "cell_type": "code",
      "metadata": {
        "id": "D4NL6IP-5eQ6",
        "colab_type": "code",
        "colab": {}
      },
      "source": [
        "#presentation_stocks = ['AAPL','MSFT','GOOGL','NFLX','MSI','AMD','AMZN','GE','NKE','F','CELG','ANTM','TEVA']\n",
        "presentation_stocks = ['AAPL']\n",
        "one_yr = 254\n",
        "\n",
        "# make predictions for stocks in presentation_stocks\n",
        "def predict_pres_stocks():\n",
        "  i=1\n",
        "  for sym in presentation_stocks:\n",
        "    try:\n",
        "      print('\\n\\n%d) ' %(i), end='')\n",
        "      predict_LSTM(sym, one_yr)\n",
        "      i+=1\n",
        "    except IndexError:\n",
        "      continue\n",
        "    except KeyError:\n",
        "      continue\n",
        "\n",
        "# make predictions of all stocks\n",
        "def predict_all_stocks():\n",
        "  i=1\n",
        "  for sym in dfdic.keys():\n",
        "    try:\n",
        "      print('\\n\\n%d) ' %(i), end='')\n",
        "      predict_LSTM(sym, one_yr)\n",
        "      i+=1\n",
        "    except IndexError:\n",
        "      continue\n",
        "    except KeyError:\n",
        "      continue  \n",
        "\n",
        "\n",
        "predict_pres_stocks()"
      ],
      "execution_count": 0,
      "outputs": []
    },
    {
      "cell_type": "markdown",
      "metadata": {
        "id": "XoXc4C96Ijfo",
        "colab_type": "text"
      },
      "source": [
        "# Graphing Library"
      ]
    },
    {
      "cell_type": "markdown",
      "metadata": {
        "id": "NNbL5c6TMWa6",
        "colab_type": "text"
      },
      "source": [
        "##Close\n",
        "**Graph Close**\n",
        "- ax = axes on which to graph\n",
        "- symbol = symbol of stock to graph\n",
        "- period = length of moving average"
      ]
    },
    {
      "cell_type": "code",
      "metadata": {
        "id": "RsVS-Ip0MWnV",
        "colab_type": "code",
        "colab": {}
      },
      "source": [
        "def graph_close(ax, symbol, period):\n",
        "  \n",
        "  tick = period//21\n",
        "  #take respective stock info\n",
        "  df = dfdic[symbol].tail(period).copy()\n",
        "  \n",
        "  # see if it exists or not\n",
        "  if symbol not in dfdic.keys():\n",
        "    print('ERROR: symbol: \\'%s\\' does not exist'%(symbol))\n",
        "    \n",
        "  #convert dates to numbers\n",
        "  df['Date'] = pd.to_datetime(df['Date'])\n",
        "  df['Date'] = df['Date'].apply(mdates.date2num)\n",
        "  \n",
        "  #set xaxis label\n",
        "  ax.xaxis.set_major_formatter(mdates.DateFormatter('%Y-%m'))\n",
        "  ax.xaxis.set_minor_formatter(mdates.DateFormatter('%d'))\n",
        "  ax.xaxis.set_major_locator(mdates.MonthLocator(interval=1))\n",
        "  ax.xaxis.set_minor_locator(mdates.DayLocator(interval=tick))\n",
        "  ax.tick_params(axis='x', which='major', rotation=90)\n",
        "  ax.tick_params(axis='x', which='minor', rotation=45)\n",
        "\n",
        "\n",
        "  #ax.tick_params(which='major',width=1.0, length=9)\n",
        "  #ax.tick_params(which='minor',width=.75, length=0)\n",
        "\n",
        "  #legend and axis names\n",
        "  ax.set_title(str(period) + ' day Close: '+ symbol )\n",
        "  ax.set_ylabel('Price')\n",
        "  ax.set_xlabel('Date')\n",
        "\n",
        "  #show grid and legend\n",
        "  ax.grid(color='grey')\n",
        "  ax.legend(loc='best')\n",
        "  \n",
        "  #set values\n",
        "  x = df['Date']\n",
        "  y = df['Close']\n",
        "  \n",
        "  #plot SMA\n",
        "  ax.plot(x, y, color='royalblue', label='Close')"
      ],
      "execution_count": 0,
      "outputs": []
    },
    {
      "cell_type": "markdown",
      "metadata": {
        "id": "_EcFZ4W_In0d",
        "colab_type": "text"
      },
      "source": [
        "##SMA\n",
        "**Graph SMA**\n",
        "- ax = axes on which to graph\n",
        "- symbol = symbol of stock to graph\n",
        "- period = length of moving average"
      ]
    },
    {
      "cell_type": "code",
      "metadata": {
        "id": "melWakiMIoHW",
        "colab_type": "code",
        "colab": {}
      },
      "source": [
        "def graph_SMA(ax, symbol, period):\n",
        "  \n",
        "  tick = period//21  \n",
        "  # see if it exists or not\n",
        "  if symbol not in sma_dic.keys():\n",
        "    print('ERROR: symbol does not exist')\n",
        "  \n",
        "  calcSMA(period)\n",
        "\n",
        "  #take respective stock info\n",
        "  df = sma_dic[symbol].tail(period).copy()      \n",
        "  \n",
        "  #convert dates to numbers\n",
        "  #df['Date'] = pd.to_datetime(df['Date'])\n",
        "  #df['Date'] = df['Date'].apply(mdates.date2num)\n",
        "  \n",
        "  #set xaxis label\n",
        "  ax.xaxis.set_major_formatter(mdates.DateFormatter('%Y-%m'))\n",
        "  ax.xaxis.set_minor_formatter(mdates.DateFormatter('%d'))\n",
        "  ax.xaxis.set_major_locator(mdates.MonthLocator(interval=1))\n",
        "  ax.xaxis.set_minor_locator(mdates.DayLocator(interval=tick))\n",
        "  ax.tick_params(axis='x', which='major', rotation=90)\n",
        "  ax.tick_params(axis='x', which='minor', rotation=45)\n",
        "\n",
        "\n",
        "  #ax.tick_params(which='major',width=1.0, length=9)\n",
        "  #ax.tick_params(which='minor',width=.75, length=0)\n",
        "\n",
        "  #legend and axis names\n",
        "  ax.set_ylabel('Price')\n",
        "  ax.set_xlabel('Date')\n",
        "\n",
        "  #show grid and legend\n",
        "  ax.grid(color='grey')\n",
        "  ax.legend(loc='best')\n",
        "  \n",
        "  #set values\n",
        "  x = df['Date']\n",
        "  y = df[period] \n",
        "  lbl = str(period) + 'd SMA'\n",
        "  \n",
        "  #plot SMA\n",
        "  ax.plot(x, y, label=lbl)\n"
      ],
      "execution_count": 0,
      "outputs": []
    },
    {
      "cell_type": "markdown",
      "metadata": {
        "id": "UkoaW_h1KHnV",
        "colab_type": "text"
      },
      "source": [
        "##EMA\n",
        "**Graph EMA**\n",
        "- ax = axes on which to graph\n",
        "- symbol = symbol of stock to graph\n",
        "- period = length of moving average"
      ]
    },
    {
      "cell_type": "code",
      "metadata": {
        "id": "o4xACsVuKHzZ",
        "colab_type": "code",
        "colab": {}
      },
      "source": [
        "def graph_EMA(ax, symbol, period):\n",
        "  \n",
        "  tick = period//21\n",
        "  \n",
        "  # see if it exists or not\n",
        "  if symbol not in dfdic.keys():\n",
        "    print('ERROR: symbol does not exist')\n",
        "  \n",
        "  calcEMA(period)\n",
        "  \n",
        "  #take respective stock info\n",
        "  df = ema_dic[symbol].tail(period).copy()\n",
        "      \n",
        "  \n",
        "  #convert dates to numbers\n",
        "  df['Date'] = pd.to_datetime(df['Date'])\n",
        "  df['Date'] = df['Date'].apply(mdates.date2num)\n",
        "  \n",
        "  #set xaxis label\n",
        "  ax.xaxis.set_major_formatter(mdates.DateFormatter('%Y-%m'))\n",
        "  ax.xaxis.set_minor_formatter(mdates.DateFormatter('%d'))\n",
        "  ax.xaxis.set_major_locator(mdates.MonthLocator(interval=1))\n",
        "  ax.xaxis.set_minor_locator(mdates.DayLocator(interval=tick))\n",
        "  ax.tick_params(axis='x', which='major', rotation=90)\n",
        "  ax.tick_params(axis='x', which='minor', rotation=45)\n",
        "\n",
        "  ax.tick_params(which='major',width=1.0, length=9)\n",
        "  ax.tick_params(which='minor',width=.75, length=0)\n",
        "\n",
        "  #legend and axis names\n",
        "  ax.set_ylabel('Price')\n",
        "  ax.set_xlabel('Date')\n",
        "\n",
        "  #show grid and legend\n",
        "  ax.grid(color='grey')\n",
        "  ax.legend(loc='best')\n",
        "  \n",
        "  #set values\n",
        "  x = df['Date']\n",
        "  y = df[period]\n",
        "  lbl = str(period) + 'd EMA'\n",
        "  \n",
        "  #plot EMA\n",
        "  ax.plot(x, y, label=lbl)\n",
        "  \n"
      ],
      "execution_count": 0,
      "outputs": []
    },
    {
      "cell_type": "markdown",
      "metadata": {
        "id": "ad50Hm9dKRn2",
        "colab_type": "text"
      },
      "source": [
        "##OHLC\n",
        "**Graph Candles**\n",
        "- ax = axes on which to graph\n",
        "- symbol = symbol of stock to graph\n",
        "- period = length of moving average"
      ]
    },
    {
      "cell_type": "code",
      "metadata": {
        "id": "Lzm_7sCGKRzC",
        "colab_type": "code",
        "colab": {}
      },
      "source": [
        "def graph_candles(ax, symbol, period):\n",
        "  \n",
        "  tick = period//21\n",
        "\n",
        "  #take respective stock info\n",
        "  df = dfdic[symbol].tail(period).copy()\n",
        "  \n",
        "  # see if it exists or not\n",
        "  if symbol not in dfdic.keys():\n",
        "    print('ERROR: symbol does not exist')\n",
        "  \n",
        "  #convert dates to numbers\n",
        "  df['Date'] = pd.to_datetime(df['Date'])\n",
        "  df[\"Date\"] = df[\"Date\"].apply(mdates.date2num)\n",
        "  \n",
        "  #set xaxis label\n",
        "  ax.xaxis.set_major_formatter(mdates.DateFormatter('%Y-%m'))\n",
        "  ax.xaxis.set_minor_formatter(mdates.DateFormatter('%d'))\n",
        "  ax.xaxis.set_major_locator(mdates.MonthLocator(interval=1))\n",
        "  ax.xaxis.set_minor_locator(mdates.DayLocator(interval=tick))\n",
        "  ax.tick_params(axis='x', which='major', rotation=90)\n",
        "  ax.tick_params(axis='x', which='minor', rotation=45)\n",
        "\n",
        "  ax.tick_params(which='major',width=1.0, length=9)\n",
        "  ax.tick_params(which='minor',width=.75, length=0)\n",
        "\n",
        "  #legend and axis names\n",
        "  ax.set_title(str(period) + ' day OHLC: '+ symbol )\n",
        "  ax.set_ylabel('Price')\n",
        "  ax.set_xlabel('Date')\n",
        "\n",
        "  #show grid and legend\n",
        "  ax.grid(color='grey')\n",
        "  ax.legend(loc='best')\n",
        "  \n",
        "  #copy only OHLC\n",
        "  ohlc = df[['Date', 'Open', 'High', 'Low','Close']].copy()\n",
        "  \n",
        "  #plot OHLC\n",
        "  candlestick_ohlc(ax, ohlc.values, width=0.6, colorup='g', colordown='r')\n",
        "  "
      ],
      "execution_count": 0,
      "outputs": []
    },
    {
      "cell_type": "markdown",
      "metadata": {
        "id": "XPOTzNK2Ki7S",
        "colab_type": "text"
      },
      "source": [
        "##Predictions\n",
        "**Graph Predictions**\n",
        "- ax = axes on which to graph\n",
        "- symbol = symbol of stock to graph\n",
        "- period = length predicted days"
      ]
    },
    {
      "cell_type": "code",
      "metadata": {
        "id": "fQ0TWcJ8KjHS",
        "colab_type": "code",
        "colab": {}
      },
      "source": [
        "def graph_prediction(ax, symbol, pred_days):\n",
        "\n",
        "  hist_days = 5 * pred_days\n",
        "  tick = hist_days//21\n",
        "  \n",
        "  #take respective stock info\n",
        "  df = predict_dic[symbol].copy()\n",
        "  print(df['Close'].head())\n",
        "  #plot the results  \n",
        "  df['Close'].head(-pred_days).plot(ax=ax, label='Historic Close', color='b')\n",
        "  df['Close'].tail(pred_days).plot(ax=ax, label='Actual Close', color='r')\n",
        "  df['Predictions'].tail(pred_days).plot(ax=ax, label='Predictions', color='g')\n",
        "  \n",
        "  #title and labels\n",
        "  ax.set_title(symbol + ' Predictions')\n",
        "  ax.set_ylabel('Price $')\n",
        "  ax.set_xlabel('Date')\n",
        "  \n",
        "  #grid and legend\n",
        "  ax.grid(color='grey')\n",
        "  ax.legend(loc='best')\n",
        "  \n",
        "  ax.xaxis.set_major_formatter(mdates.DateFormatter('%Y-%m'))\n",
        "  ax.xaxis.set_minor_formatter(mdates.DateFormatter('%d'))\n",
        "  ax.xaxis.set_major_locator(mdates.MonthLocator(interval=1))\n",
        "  ax.xaxis.set_minor_locator(mdates.DayLocator(interval=tick))\n",
        "  ax.tick_params(axis='x', which='major', rotation=90)\n",
        "  ax.tick_params(axis='x', which='minor', rotation=45)\n",
        "\n",
        "  ax.tick_params(which='major',width=1.0, length=9)\n",
        "  ax.tick_params(which='minor',width=.75, length=0)\n",
        "\n",
        "  #display table\n",
        "  #new_data_graph['Predictions'] = new_data_graph['Predictions']\n",
        "  #new_data_graph.tail(60)\n",
        "  "
      ],
      "execution_count": 0,
      "outputs": []
    },
    {
      "cell_type": "markdown",
      "metadata": {
        "id": "82EtJCz42Gsh",
        "colab_type": "text"
      },
      "source": [
        "##**Graph All**"
      ]
    },
    {
      "cell_type": "markdown",
      "metadata": {
        "id": "Vq6TnBQ8KmT4",
        "colab_type": "text"
      },
      "source": [
        "**Graph all Function**\n",
        "- period = length of moving average\n",
        "- sma = True if you want to graph it, default is False\n",
        "- ema = True if you want to graph it, default is False\n",
        "- candles = True if you want to graph it, default is False\n",
        "- predict = True if you want to graph it, default is False"
      ]
    },
    {
      "cell_type": "code",
      "metadata": {
        "id": "14U5Q284Kmdh",
        "colab_type": "code",
        "colab": {}
      },
      "source": [
        "#plt.style.use('seaborn')\n",
        "plt.style.use('dark_background')\n",
        "#t1,t2,t3,t4,t5 = 0,0,0,0,0\n",
        "def graph_all(symbol, close=[False,t1] , sma=[False,t2], ema=[False,t3], candles=[False,t4], predict=[False,t5]):\n",
        "  if close[0] == True or sma[0] == True or ema[0] == True or candles[0] == True:\n",
        "    f1, ax1 = plt.subplots(figsize = (18,8))\n",
        "    ax1.tick_params(pad=15)\n",
        "  if predict[0] == True:\n",
        "    f2, ax2 = plt.subplots(figsize = (18,8))\n",
        "    ax2.tick_params(pad=15)\n",
        "  title = ''\n",
        "  #create requested plots\n",
        "  \n",
        "  if close[0] == True:\n",
        "    graph_close(ax1, symbol, close[1])\n",
        "  if sma[0] == True:\n",
        "    graph_SMA(ax1, symbol, sma[1])\n",
        "  if ema[0] == True:\n",
        "    graph_EMA(ax1, symbol, ema[1])\n",
        "  if candles[0] == True:\n",
        "    graph_candles(ax1, symbol, candles[1])\n",
        "  if predict[0] == True:\n",
        "    graph_prediction(ax2, symbol, predict[1])\n",
        "    title = 'Predictions for ' + symbol\n",
        "    ax2.set_title(title)\n",
        "  \n",
        "  plt.show()\n",
        "  \n",
        "  \n"
      ],
      "execution_count": 0,
      "outputs": []
    },
    {
      "cell_type": "code",
      "metadata": {
        "id": "g8UZKeKSX4ro",
        "colab_type": "code",
        "colab": {}
      },
      "source": [
        "#graph_all('AAPL',close=[True,30])\n",
        "#graph_all('AAPL', sma=[True,30])\n",
        "#graph_all('AAPL', ema=[True,30])\n",
        "#graph_all('AAPL', candles=[True,30])\n",
        "#graph_all('AAPL', predict=[True,90])\n",
        "\n",
        "#graph_all('AAPL', 200, sma=True, ema=True, candles=True)\n",
        "#graph_all('AAPL', 100, predict=True, close=True)\n",
        "#\n",
        "#graph_all('AAPL', sma=[True,21] , ema=[True,30], candles=[True,60])\n",
        "graph_all('AAPL', sma=[True,30] , ema=[True,30], candles=[True,254],predict=[True,90])\n"
      ],
      "execution_count": 0,
      "outputs": []
    },
    {
      "cell_type": "markdown",
      "metadata": {
        "id": "okEf8a8V0qxs",
        "colab_type": "text"
      },
      "source": [
        "# **User Interface**"
      ]
    },
    {
      "cell_type": "code",
      "metadata": {
        "id": "SdrZqasD0uDx",
        "colab_type": "code",
        "colab": {}
      },
      "source": [
        "#predict_LTSM(symbol)\n",
        "#for symbol in dfdic.keys():\n",
        "#  predict_LTSM(symbol)\n",
        "\n",
        "user_in = ''\n",
        "cur_symbol = ''\n",
        "df_ui = pd.DataFrame()\n",
        "one_yr = 254 #number of trade days in a year = 254 (ie 10 years)\n",
        "\n",
        "def mainmenu():\n",
        "  print('=================================== MAIN MENU ===================================')\n",
        "  print_mainMenu_help()\n",
        "  \n",
        "  while True:  \n",
        "    user_in = input('> ').strip().upper()\n",
        "    \n",
        "    if user_in == 'HELP':\n",
        "      print_mainMenu_help()\n",
        "      \n",
        "    elif user_in == 'EXIT' or 'QUIT':\n",
        "      break\n",
        "    \n",
        "    tokens = user_in.split()\n",
        "  \n",
        "    if tokens[0] == 'MA':\n",
        "      for i in tokens[1:]:\n",
        "        try:\n",
        "          calcSMA(int(i))\n",
        "          calcEMA(int(i))\n",
        "        except ValueError:\n",
        "          print('INVALID ENTRY: %s is not an integer' %(i))\n",
        "      print(' *** SUCCESS: SMA and EMA calculated')\n",
        "      \n",
        "    elif tokens[0] == 'PREDICT':\n",
        "      try:\n",
        "        predict_LTSM(cur_symbol, int(tokens[1]))\n",
        "        print(' *** SUCCESS: Predictions calculated')\n",
        "      except ValueError:\n",
        "        print('INVALID ENTRY: %s is not an integer' %(i))\n",
        "        \n",
        "    elif tokens[0] == 'TABLE':\n",
        "      if tokens[1] == 'MA':\n",
        "        df_ui = concatDF(symbol)\n",
        "        df_ui\n",
        "      elif tokens[1] == 'PREDICT':\n",
        "        df_ui = table_predict(cur_symbol)\n",
        "        df_ui\n",
        "      else:\n",
        "        print('INVALID ENTRY: enter either ma or predict')\n",
        "        \n",
        "    elif tokens[0] == 'GRAPH':\n",
        "      if tokens[1] == 'MA':\n",
        "        graph_close_sma_ema(cur_symbol)\n",
        "      elif tokens[1] == 'predict':\n",
        "        graph_LTSM(cur_symbol, one_yr)\n",
        "      else:\n",
        "        print('INVALID ENTRY: enter either ma or predict')\n",
        "        \n",
        "    elif tokens[0] == 'CHANGE':\n",
        "      if tokens[1] in dfdic.keys():\n",
        "        cur_symbol = tokens[1]\n",
        "        print(' *** SUCCESS: Stock changed to: %s' %(cur_symbol))\n",
        "      else:\n",
        "        print('INVALID ENTRY: symbol not stored in data')\n",
        "      \n",
        "    else:\n",
        "      print('ERROR: invlaid command' %(user_in))\n",
        "      \n",
        "  print(' $$$ HAPPY TRADING $$$')\n",
        "      \n",
        "def print_mainMenu_help():\n",
        "  if not cur_symbol == '': \n",
        "    print('\\nCurrent Stock: %s' %(cur_symbol))\n",
        "  else: \n",
        "    print('\\nCurrent Stock: None')\n",
        "    \n",
        "  print('\\t-- Calculate SMA & EMA ............... [ma period1 period2 ...]')\n",
        "  print('\\t-- Make predictions .................. [predict #daysfrom today]')\n",
        "  print('\\t-- Display SMA & EMA Table ........... [table ma]')\n",
        "  print('\\t-- Display predictions table ......... [table predict]')\n",
        "  print('\\t-- Graph SMA & EMA ................... [graph ma]')\n",
        "  print('\\t-- Graph predictions ................. [graph predict]')\n",
        "  print('\\t-- Change stocks ..................... [change symbol]')\n",
        "  print('\\t-- Help .............................. [help]')\n",
        "  print('\\t-- Exit .............................. [exit]')\n",
        "  \n",
        "  \n",
        "  \n",
        "#mainmenu()"
      ],
      "execution_count": 0,
      "outputs": []
    },
    {
      "cell_type": "markdown",
      "metadata": {
        "id": "NUo5DVJd7hUF",
        "colab_type": "text"
      },
      "source": [
        "##Evaluating Predictions"
      ]
    },
    {
      "cell_type": "code",
      "metadata": {
        "id": "luI9eVpp4RNN",
        "colab_type": "code",
        "colab": {}
      },
      "source": [
        "from datetime import datetime\n",
        "\n",
        "\n",
        "for symbol in predict_dic.keys():\n",
        "  predict_dic[symbol] = predict_dic[symbol].dropna()\n",
        "\n",
        "headers = ['Projected Profit','Min','Max','Adj Min','Adj Max','Buy Date','Sell Date']\n",
        "types = [float,float,float,float,float,datetime,datetime]\n",
        "projections_df = pd.DataFrame(index=predict_dic.keys(), columns=headers)\n",
        "#index=presentation_stocks, columns=['Profit','Min','Max','Buy Date','Sell Date']\n",
        "\n",
        "\n",
        "#projections.columns = ['Profit','Min','Max','Buy Date','Sell Date']\n",
        "#projections.index = presentation_stocks\n",
        "\n",
        "#presentation_stocks\n",
        "#predict_dic = {}\n",
        "#rms_dic = {}\n",
        "#avg_dif_dic = {}\n",
        "#avg_perc_dif_dic = {}\n",
        "  \n",
        "def getminmax(symbol):\n",
        "  df = predict_dic[symbol]\n",
        "  minn = df['Predictions'].min(skipna=True)\n",
        "  maxx = df['Predictions'].max(skipna=True)\n",
        "  \n",
        "  #Index(myseries).get_loc(7)\n",
        "  #(myseries==7).argmax()\n",
        "  #print('date min: %s' %(datetime.strf(df['Predictions'].argmin(), format='%Y-%m-%d')) )\n",
        "  #print('date max: %s\\n\\n' %(datetime.strf(df['Predictions'].argmax(), format='%Y-%m-%d')) )\n",
        "    \n",
        "  return df['Predictions'].min(skipna=True), df['Predictions'].max(skipna=True)\n",
        "  \n",
        "def difMinMax(symbol, predict_min, predict_max):\n",
        "  avg_dif = avg_dif_dic[symbol]\n",
        "  return (predict_max - perc_dif ) - (pred_min + perc_dif)\n",
        "\n",
        "\n",
        "def create_desirable_df():\n",
        "  for symbol,df in predict_dic.items():\n",
        "    df.dropna(how='any', inplace=True)\n",
        "    tmp = projections_df.loc[symbol]\n",
        "    predict_df = predict_dic[symbol]\n",
        "    minn, maxx = getminmax(symbol)\n",
        "    #dmin, dmax = getminmaxdate(minn,maxx)\n",
        "    \n",
        "    adj_min = minn + avg_dif_dic[symbol]\n",
        "    adj_max = maxx - avg_dif_dic[symbol]\n",
        "    \n",
        "    tmp['Projected Profit'] = adj_max - adj_min\n",
        "    tmp['Min'] = minn\n",
        "    tmp['Max'] = maxx\n",
        "    tmp['Adj Min'] = adj_min\n",
        "    tmp['Adj Max'] = adj_max\n",
        "    #tmp['Buy Date'] = datetime.strftime(df['Predictions'].argmin(), format='%Y-%m-%d')\n",
        "    #tmp['Sell Date'] = datetime.strftime(df['Predictions'].argmax(), format='%Y-%m-%d')\n",
        "    \n",
        "    tmp['Buy Date'] = datetime.strftime(df[df['Predictions']==minn].index[0], format='%Y-%m-%d')\n",
        "    tmp['Sell Date'] = datetime.strftime(df[df['Predictions']==maxx].index[0], format='%Y-%m-%d')\n",
        "    \n",
        "    #if dmin < dmax == True:\n",
        "    \n",
        "#projections_df['Buy Date'] = pd.to_datetime(projections_df['Buy Date'], format='%Y-%m-%d').copy()\n",
        "#projections_df['Sell Date'] = pd.to_datetime(projections_df['Sell Date'], format='%Y-%m-%d').copy()"
      ],
      "execution_count": 0,
      "outputs": []
    },
    {
      "cell_type": "code",
      "metadata": {
        "id": "5BlLc1Ch2r33",
        "colab_type": "code",
        "colab": {}
      },
      "source": [
        "\n",
        "create_desirable_df()\n",
        "projections_df = projections_df.sort_values(by='Projected Profit', ascending=False)\n",
        "projections_df\n"
      ],
      "execution_count": 0,
      "outputs": []
    }
  ]
}