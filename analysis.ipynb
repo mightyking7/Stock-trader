{
  "nbformat": 4,
  "nbformat_minor": 0,
  "metadata": {
    "colab": {
      "name": "test1.ipynb",
      "version": "0.3.2",
      "provenance": [],
      "include_colab_link": true
    },
    "language_info": {
      "codemirror_mode": {
        "name": "ipython",
        "version": 3
      },
      "file_extension": ".py",
      "mimetype": "text/x-python",
      "name": "python",
      "nbconvert_exporter": "python",
      "pygments_lexer": "ipython3",
      "version": "3.7.1"
    },
    "kernelspec": {
      "display_name": "Python 3",
      "language": "python",
      "name": "python3"
    }
  },
  "cells": [
    {
      "cell_type": "markdown",
      "metadata": {
        "id": "view-in-github",
        "colab_type": "text"
      },
      "source": [
        "<a href=\"https://colab.research.google.com/github/nicknovoa03/Stock-trader/blob/Nick-Dev/analysis.ipynb\" target=\"_parent\"><img src=\"https://colab.research.google.com/assets/colab-badge.svg\" alt=\"Open In Colab\"/></a>"
      ]
    },
    {
      "metadata": {
        "id": "TTmdQMVhsctE",
        "colab_type": "text"
      },
      "cell_type": "markdown",
      "source": [
        "##Unzip stock  to have access to files in notebook enviorment\n",
        "  * using in google colab\n"
      ]
    },
    {
      "metadata": {
        "id": "EVqma1wN4jUN",
        "colab_type": "code",
        "colab": {}
      },
      "cell_type": "code",
      "source": [
        "import zipfile\n",
        "\n",
        "zname = 'stocks.zip'\n",
        "\n",
        "with zipfile.ZipFile(zname,'r') as zip_ref:\n",
        "  zip_ref.extractall()"
      ],
      "execution_count": 0,
      "outputs": []
    },
    {
      "metadata": {
        "id": "HCsF4e73svkZ",
        "colab_type": "text"
      },
      "cell_type": "markdown",
      "source": [
        "##Import all information from quotes from their .csv's\n",
        "* 'date', 'open', 'high', 'low', 'close', 'adjclose', 'volume' for each stock"
      ]
    },
    {
      "metadata": {
        "id": "X5Cp9sylyZa4",
        "colab_type": "code",
        "colab": {}
      },
      "cell_type": "code",
      "source": [
        "import numpy as np\n",
        "import pandas as pd\n",
        "from statistics import mean\n",
        "import datetime\n",
        "import matplotlib.pyplot as plt\n",
        "import matplotlib.dates as mdates\n",
        "import os\n",
        "\n",
        "# All lists and Dictionaries ordered from most recent to oldest\n",
        "dfdic = {}\n",
        "closeDF = {}\n",
        "\n",
        "# Date,Open,High,Low,Close,Adj Close,Volume\n",
        "# 1980-12-12,0.513393,0.515625,0.513393,0.513393,0.023007,117258400\n",
        "# 1980-12-15,0.488839,0.488839,0.486607,0.486607,null,43971200\n",
        "# ...\n",
        "dirpath = 'stocks/quotes'\n",
        "for file in os.listdir(dirpath):\n",
        "    symbol = os.path.splitext(file)[0]\n",
        "    if symbol[0] == '.':\n",
        "      continue\n",
        "    #print('Stock:',symbol)\n",
        "    path = dirpath + '/' + file\n",
        "    \n",
        "    dfdic[symbol] = pd.read_csv(path)\n",
        "    \n"
      ],
      "execution_count": 0,
      "outputs": []
    },
    {
      "metadata": {
        "id": "0-YNl59W6We3",
        "colab_type": "code",
        "colab": {
          "base_uri": "https://localhost:8080/",
          "height": 52
        },
        "outputId": "28c284f0-44e4-4cea-ab2d-4cfde336a999"
      },
      "cell_type": "code",
      "source": [
        "dfdic[symbol]['Close']"
      ],
      "execution_count": 132,
      "outputs": [
        {
          "output_type": "execute_result",
          "data": {
            "text/plain": [
              "array([  0.513393,   0.486607,   0.450893, ..., 194.020004, 195.350006,\n",
              "       195.690002])"
            ]
          },
          "metadata": {
            "tags": []
          },
          "execution_count": 132
        }
      ]
    },
    {
      "metadata": {
        "id": "iraagL0QtMbq",
        "colab_type": "text"
      },
      "cell_type": "markdown",
      "source": [
        "##Calculate Small Moving Averages using Pandas\n",
        " * return a dictionay where each key is the symbol and the value is a pandas DataFrame with the moving average for that day"
      ]
    },
    {
      "metadata": {
        "id": "gMvFkV7Eev6I",
        "colab_type": "code",
        "colab": {}
      },
      "cell_type": "code",
      "source": [
        "def calcSMA(period):\n",
        "  temp = {}\n",
        "  start = 0\n",
        "  sma = 0\n",
        "  for sym,val in dfdic.items():\n",
        "    #check if length of all closing values is bigger than the period\n",
        "    val = val.loc[:,'Close']\n",
        "    if val.size-period < 0:\n",
        "      print(val,\"closing array length of:\",val.size,\"...expected ~\",start+period-1)\n",
        "      continue\n",
        "    #get the SMA for each stock with pandas\n",
        "    sma = val.rolling(window=period).mean()\n",
        "    #Add to temp dictionary with key being the symbol and value is SMA\n",
        "    temp[sym] = sma\n",
        "  return temp\n"
      ],
      "execution_count": 0,
      "outputs": []
    },
    {
      "metadata": {
        "id": "85uJLS-LyZbB",
        "colab_type": "code",
        "colab": {
          "base_uri": "https://localhost:8080/",
          "height": 123
        },
        "outputId": "6b4f96b8-a800-42b5-e4b9-275321df3c7e"
      },
      "cell_type": "code",
      "source": [
        "sma50 = calcSMA(50)\n",
        "#print(\"sma50 = %s\" %sma50)\n",
        "#print(\"Sma50 Length = %d\" %len(sma50))\n",
        "\n",
        "sma10 = calcSMA(10)\n",
        "#print(\"sma10 = %s\" %sma10)\n",
        "#print(\"Sma10 Length = %d\" %len(sma10))\n",
        "\n",
        "sma100 = calcSMA(100)\n"
      ],
      "execution_count": 142,
      "outputs": [
        {
          "output_type": "execute_result",
          "data": {
            "text/plain": [
              "9655    173.7006\n",
              "9656    174.4082\n",
              "9657    175.1522\n",
              "9658    175.9932\n",
              "9659    176.8286\n",
              "Name: Close, dtype: float64"
            ]
          },
          "metadata": {
            "tags": []
          },
          "execution_count": 142
        }
      ]
    },
    {
      "metadata": {
        "id": "2t3nIZngywtt",
        "colab_type": "text"
      },
      "cell_type": "markdown",
      "source": [
        "##calculate the Exponential Moving Average \n",
        "* return a dictionay where each key is the symbol and the value is a pandas DataFrame with the exponential moving averages for each day"
      ]
    },
    {
      "metadata": {
        "id": "T_W8G_ekywF7",
        "colab_type": "code",
        "colab": {}
      },
      "cell_type": "code",
      "source": [
        "def calcEMA(period):\n",
        "  temp = {}\n",
        "  start = 0\n",
        "  ema = 0\n",
        "  for sym,val in dfdic.items():\n",
        "    #check if length of all closing values is bigger than the period\n",
        "    val = val.loc[:,'Close']\n",
        "    if val.size-period < 0:\n",
        "      print(val,\"closing array length of:\",val.size,\"...expected ~\",start+period-1)\n",
        "      continue\n",
        "    #get the EMA using pandas\n",
        "    ema = val.ewm(span = period, adjust = False).mean()\n",
        "    #add to dictionary with key being the symbol and value is a pandas DataFrame\n",
        "    temp[sym] = ema\n",
        "  return temp\n",
        "\n",
        "ema50 = calcEMA(50)\n",
        "#print(\"sma50 = %s\" %sma50)\n",
        "#print(\"Sma50 Length = %d\" %len(sma50))\n",
        "\n",
        "ema100 = calcEMA(100)\n",
        "#print(\"ema10 = %s\" %ema10)\n",
        "#print(\"ema10 Length = %d\" %len(ema10))\n",
        "\n",
        "ema20 = calcEMA(20)"
      ],
      "execution_count": 0,
      "outputs": []
    },
    {
      "metadata": {
        "id": "nu4AqT551zYS",
        "colab_type": "text"
      },
      "cell_type": "markdown",
      "source": [
        "##Candlestick graph with SMA and EMA"
      ]
    },
    {
      "metadata": {
        "colab_type": "code",
        "id": "v6uQbSpUitx7",
        "colab": {}
      },
      "cell_type": "code",
      "source": [
        "!pip install https://github.com/matplotlib/mpl_finance/archive/master.zip"
      ],
      "execution_count": 0,
      "outputs": []
    },
    {
      "metadata": {
        "id": "wk5cQTs-hEa8",
        "colab_type": "code",
        "colab": {
          "base_uri": "https://localhost:8080/",
          "height": 560
        },
        "outputId": "11ca1114-3a8d-4868-ff43-2b16af74e6c8"
      },
      "cell_type": "code",
      "source": [
        "from mpl_finance import candlestick_ohlc\n",
        "import seaborn as sns\n",
        "\n",
        "sns.set(style='darkgrid', context='talk', palette='Dark2')\n",
        "symbol = 'AAPL'\n",
        "period = 100\n",
        "span = 20\n",
        "df = dfdic['AAPL'].tail(period).copy()\n",
        "\n",
        "df['Date'] = pd.to_datetime(df['Date'])\n",
        "df[\"Date\"] = df[\"Date\"].apply(mdates.date2num)\n",
        "\n",
        "ohlc= df[['Date', 'Open', 'High', 'Low','Close']].copy()\n",
        "\n",
        "ohlc.tail(period)\n",
        "\n",
        "f1, ax = plt.subplots(figsize = (19,9))\n",
        "\n",
        "#plot\n",
        "candlestick_ohlc(ax, ohlc.values, width=0.6, colorup='g',colordown='r')\n",
        "ax.xaxis.set_major_formatter(mdates.DateFormatter('%Y-%m'))\n",
        "\n",
        "#get SMA\n",
        "ohlc['SMA'] = sma50[symbol].tail(period).values\n",
        "ohlc['EMA'] = ema50[symbol].tail(period).values\n",
        "\n",
        "ax.plot(ohlc['Date'], ohlc['SMA 50'], color='g', label='SMA 50')\n",
        "ax.plot(ohlc['Date'], ohlc['EMA 50'], color='b', label='EMA 50')\n",
        "\n",
        "plt.legend(loc=1)\n",
        "plt.show()\n",
        "#type(df.tail()['Date'].values[0])\n",
        "#ohlc.tail()\n",
        "#sma50[symbol].tail(period).values"
      ],
      "execution_count": 152,
      "outputs": [
        {
          "output_type": "display_data",
          "data": {
            "image/png": "[encoded data removed]",
            "text/plain": [
              "<Figure size 1368x648 with 1 Axes>"
            ]
          },
          "metadata": {
            "tags": []
          }
        }
      ]
    },
    {
      "metadata": {
        "id": "rdj6OB0j8xdF",
        "colab_type": "text"
      },
      "cell_type": "markdown",
      "source": [
        "##Plot closing prices with SMA of 50 and 100 days"
      ]
    },
    {
      "metadata": {
        "id": "J518D8znkrM7",
        "colab_type": "code",
        "colab": {}
      },
      "cell_type": "code",
      "source": [
        "symbol = 'MSFT'\n",
        "sd = '2017-01-03'\n",
        "ed = '2019-04-01'\n",
        "\n",
        "my_year_month_fmt = mdates.DateFormatter('%m/%y')\n",
        "\n",
        "#concatinate dataframes\n",
        "df = closeDF[symbol]\n",
        "smas = sma50[symbol]\n",
        "smab = sma100[symbol]\n",
        "df = pd.concat([df,smas],axis=1)\n",
        "df = pd.concat([df,smab],axis=1)\n",
        "df.columns = [symbol,'SMA 50','SMA 100']\n",
        "\n",
        "#change index to datetime format from str\n",
        "df.index = pd.to_datetime(df.index)\n",
        "#plot date\n",
        "fig, ax = plt.subplots(figsize=(15,9))\n",
        "df.loc[sd:ed,:].plot(ax=ax)\n",
        "\n",
        "#set ticks every day\n",
        "ax.xaxis.set_major_locator(mdates.MonthLocator(interval=2))\n",
        "ax.xaxis.set_major_formatter(my_year_month_fmt)"
      ],
      "execution_count": 0,
      "outputs": []
    },
    {
      "metadata": {
        "id": "37fCcYv280x_",
        "colab_type": "text"
      },
      "cell_type": "markdown",
      "source": [
        "##Plot closing prices with EMA and SMA"
      ]
    },
    {
      "metadata": {
        "id": "giXqjH2Y8nKQ",
        "colab_type": "code",
        "colab": {}
      },
      "cell_type": "code",
      "source": [
        "symbol = 'AAPL'\n",
        "sd = '2015-01-01'\n",
        "ed = '2017-01-03'\n",
        "\n",
        "my_year_month_fmt = mdates.DateFormatter('%m/%y')\n",
        "\n",
        "#concatinate dataframes\n",
        "df = closeDF[symbol].copy()\n",
        "smas = sma50[symbol]\n",
        "emas = ema50[symbol]\n",
        "df = pd.concat([df,smas],axis=1)\n",
        "df = pd.concat([df,emas],axis=1)\n",
        "df.columns = [symbol,'SMA 50','EMA 50']\n",
        "\n",
        "#change index to datetime format from str\n",
        "df.index = pd.to_datetime(df.index)\n",
        "#plot date\n",
        "fig, ax = plt.subplots(figsize=(15,9))\n",
        "df.loc[sd:ed,:].plot(ax=ax)\n",
        "\n",
        "#set ticks every day\n",
        "ax.xaxis.set_major_locator(mdates.MonthLocator(interval=2))\n",
        "ax.xaxis.set_major_formatter(my_year_month_fmt)"
      ],
      "execution_count": 0,
      "outputs": []
    },
    {
      "metadata": {
        "id": "fCDcvJ-4yZbG",
        "colab_type": "code",
        "colab": {}
      },
      "cell_type": "code",
      "source": [
        "dydxAvg = 0\n",
        "dydx2Avg = 0\n",
        "dydxList = []\n",
        "dydx2List = []\n",
        "\n",
        "def CalcDydx(l):\n",
        "    global dydxList\n",
        "    global dydxAvg\n",
        "    dx = 1\n",
        "    dydxList = list(numpy.diff(smaList) / dx)\n",
        "    dydxAvg = mean(dydxList)\n",
        "\n",
        "def calcDydx2():\n",
        "    global dydx2List\n",
        "    global dydx2Avg\n",
        "    dx = 1\n",
        "    dydx2List = list(numpy.diff(dydxList) / dx)\n",
        "    dydx2Avg = mean(dydx2List)\n",
        "\n",
        "\n",
        "CalcDydx()\n",
        "print(\"Dydx Length=%d\" %len(dydxList))\n",
        "print(\"Dydx2 Length=%d\" %len(dydx2List))\n",
        "printList(dydxList, \"dy/dx List\")\n",
        "printList(dydx2List, \"d2y/dx2 List\")"
      ],
      "execution_count": 0,
      "outputs": []
    },
    {
      "metadata": {
        "id": "BsdacFpdyZbN",
        "colab_type": "code",
        "colab": {}
      },
      "cell_type": "code",
      "source": [
        "#  (12 * (p0 / p1 – 1))\n",
        "# + (4 * (p0 / p3 – 1))\n",
        "# + (2 * (p0 / p6 – 1))\n",
        "# +      (p0 / p12 – 1)\n",
        "# Where p0 = the asset price at today’s close, \n",
        "# p1 = the asset price at the close of the previous month, etc.\n",
        "\n",
        "today = datetime.datetime.today().strftime('%Y/%m/%d')\n",
        "momentum = [0 for x in range(0,4)]\n",
        "confidence = 0\n",
        "\n",
        "def dayDif(d1, d2):\n",
        "    d1 = datetime.strptime(d1, '%Y/%m/%d')\n",
        "    d2 = datetime.strptime(d2, '%Y/%m/%d')\n",
        "    return abs((d2 - d1).days)\n",
        "    \n",
        "def calcMomentum():\n",
        "    global momentum\n",
        "    p0=0.0; p1=0.0; p3=0.0; p6=0.0; p12=0.0\n",
        "    months = ['12','11','10','09','08','07','06','05','04','03','02','01','12','11','10','09','08','07','06','05','04','03','02','01']\n",
        "    p0_mn = dateList[0][5:7] # current month\n",
        "    p1_mn = months[months.index(p0_mn)+1]\n",
        "    p3_mn = months[months.index(p0_mn)+3]\n",
        "    p6_mn = months[months.index(p0_mn)+6]\n",
        "    p12_mn = months[months.index(p0_mn)+12]\n",
        "    \n",
        "    #print(\"p0_mn=%s, p1_mn=%s, p3_mn=%s, p6_mn=%s, p12_mn=%s\" %(p0_mn,p1_mn,p3_mn,p6_mn,p12_mn))\n",
        "    for d in dateList:\n",
        "        dates = d.split(\"/\")\n",
        "        if dates[1] == p0_mn and p0 == 0:\n",
        "            p0 = float(closeDic[d])\n",
        "            #print(\"%s : p0=%f\\n\" %(d,p0))\n",
        "        elif dates[1] == p1_mn and p1 == 0:\n",
        "            p1 = float(closeDic[d])\n",
        "            #print(\"%s : p1=%f\\n\" %(d,p1))\n",
        "        elif dates[1] == p3_mn and p3 == 0:\n",
        "            p3 = float(closeDic[d])\n",
        "            #print(\"%s : p3=%f\\n\" %(d,p3))\n",
        "        elif dates[1] == p6_mn and p6 == 0:\n",
        "            p6 = float(closeDic[d])\n",
        "            #print(\"%s : p6=%f\\n\" %(d,p6))\n",
        "        elif dates[1] == p12_mn and p12 == 0 and p6 != 0: \n",
        "            p12 = float(closeDic[d])\n",
        "            #print(\"%s : p12=%f\\n\" %(d,p12))\n",
        "            break\n",
        "    \n",
        "    #print(\"p0=%f, p1=%f, p3=%f, p6=%f, p12=%f\" %(p0,p1,p3,p6,p12))\n",
        "    momentum[0] = 12 * (p0 / p1 - 1)\n",
        "    momentum[1] = 4 * (p0 / p3 - 1)\n",
        "    momentum[2] = 2 * (p0 / p6 - 1)\n",
        "    momentum[3] = 1 * (p0 / p12 - 1)\n",
        "    print(\"momentum[0]=%f \\nmomentum[1]=%f \\nmomentum[2]=%f\\nmomentum[3]=%f\" %(momentum[0],momentum[1],momentum[2],momentum[3]))\n",
        "    confidence = momentum[0] + momentum[1] + momentum[2] + momentum[3]\n",
        "    return confidence\n",
        "\n",
        "\n",
        "print(\"Today is %s\" %today)\n",
        "confidence = calcMomentum()\n",
        "print(\"Confidence: %f\" %confidence)\n",
        "#printDateList()\n",
        "printList(momentum, \"Momentum List\")"
      ],
      "execution_count": 0,
      "outputs": []
    }
  ]
}