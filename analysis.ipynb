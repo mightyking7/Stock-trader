{
  "nbformat": 4,
  "nbformat_minor": 0,
  "metadata": {
    "colab": {
      "name": "test1.ipynb",
      "version": "0.3.2",
      "provenance": [],
      "toc_visible": true,
      "include_colab_link": true
    },
    "language_info": {
      "codemirror_mode": {
        "name": "ipython",
        "version": 3
      },
      "file_extension": ".py",
      "mimetype": "text/x-python",
      "name": "python",
      "nbconvert_exporter": "python",
      "pygments_lexer": "ipython3",
      "version": "3.7.1"
    },
    "kernelspec": {
      "display_name": "Python 3",
      "language": "python",
      "name": "python3"
    }
  },
  "cells": [
    {
      "cell_type": "markdown",
      "metadata": {
        "id": "view-in-github",
        "colab_type": "text"
      },
      "source": [
        "<a href=\"https://colab.research.google.com/github/nicknovoa03/Stock-trader/blob/Nick-Dev/analysis.ipynb\" target=\"_parent\"><img src=\"https://colab.research.google.com/assets/colab-badge.svg\" alt=\"Open In Colab\"/></a>"
      ]
    },
    {
      "metadata": {
        "id": "TTmdQMVhsctE",
        "colab_type": "text"
      },
      "cell_type": "markdown",
      "source": [
        "##Unzip stock  to have access to files in notebook enviorment\n",
        "  * using in google colab\n"
      ]
    },
    {
      "metadata": {
        "id": "EVqma1wN4jUN",
        "colab_type": "code",
        "colab": {}
      },
      "cell_type": "code",
      "source": [
        "\n",
        "import zipfile\n",
        "\n",
        "zname = 'stocks.zip'\n",
        "\n",
        "with zipfile.ZipFile(zname,'r') as zip_ref:\n",
        "  zip_ref.extractall()\n"
      ],
      "execution_count": 0,
      "outputs": []
    },
    {
      "metadata": {
        "id": "HCsF4e73svkZ",
        "colab_type": "text"
      },
      "cell_type": "markdown",
      "source": [
        "##Import all information from quotes from their .csv's\n",
        "* 'date', 'open', 'high', 'low', 'close', 'adjclose', 'volume' for each stock"
      ]
    },
    {
      "metadata": {
        "id": "X5Cp9sylyZa4",
        "colab_type": "code",
        "colab": {}
      },
      "cell_type": "code",
      "source": [
        "import numpy as np\n",
        "import pandas as pd\n",
        "from statistics import mean\n",
        "import datetime\n",
        "import matplotlib.pyplot as plt\n",
        "import os\n",
        "\n",
        "# All lists and Dictionaries ordered from most recent to oldest\n",
        "allData = {}\n",
        "close = {}\n",
        "\n",
        "# Date,Open,High,Low,Close,Adj Close,Volume\n",
        "# 1980-12-12,0.513393,0.515625,0.513393,0.513393,0.023007,117258400\n",
        "# 1980-12-15,0.488839,0.488839,0.486607,0.486607,null,43971200\n",
        "# ...\n",
        "dirpath = 'stocks/quotes'\n",
        "for file in os.listdir(dirpath):\n",
        "    symbol = os.path.splitext(file)[0]\n",
        "    if symbol[0] == '.':\n",
        "      continue\n",
        "    #print('Stock:',symbol)\n",
        "    path = dirpath + '/' + file\n",
        "    dt = {'names':('date','open','high','low','close','adjclose','volume'),\n",
        "        'formats':('U10',np.float, np.float, np.float, np.float, np.float, np.float)}\n",
        "    npdata = np.genfromtxt(path, skip_header=1, dtype=dt, delimiter=',')\n",
        "    close[symbol] = npdata['close']\n",
        "    allData[symbol] = npdata\n"
      ],
      "execution_count": 0,
      "outputs": []
    },
    {
      "metadata": {
        "id": "iraagL0QtMbq",
        "colab_type": "text"
      },
      "cell_type": "markdown",
      "source": [
        "##Calculate Small Moving Averages over a period using numpy"
      ]
    },
    {
      "metadata": {
        "id": "gMvFkV7Eev6I",
        "colab_type": "code",
        "colab": {}
      },
      "cell_type": "code",
      "source": [
        "def calcSMA(period):\n",
        "  temp = {}\n",
        "  start = 0\n",
        "  sma = 0\n",
        "  for sym,val in close.items():\n",
        "    #check if length of all closing values is bigger than the period\n",
        "    if val.size-period < 0:\n",
        "      print(val,\"closing array length of:\",val.size,\"...expected ~\",start+period-1)\n",
        "      continue\n",
        "    #get the SMA for each stock\n",
        "    start = val.size - period\n",
        "    sma = np.mean(val[start:])\n",
        "    #Add to temp dictionary with key being the symbol and value is SMA\n",
        "    temp[sym] = sma\n",
        "  return temp\n",
        "\n",
        "def calcAvgSMA(nDaySMA):\n",
        "  #get list of all SMA, 1 per company\n",
        "  vals = list(nDaySMA.values())\n",
        "  #return single average value of all SMA's\n",
        "  return(np.mean(vals))\n"
      ],
      "execution_count": 0,
      "outputs": []
    },
    {
      "metadata": {
        "id": "85uJLS-LyZbB",
        "colab_type": "code",
        "outputId": "c04b78b1-d739-42e3-8012-aaf006f82d5e",
        "colab": {
          "base_uri": "https://localhost:8080/",
          "height": 105
        }
      },
      "cell_type": "code",
      "source": [
        "sma50 = calcSMA(50)\n",
        "print(\"sma50 = %s\" %sma50)\n",
        "print(\"Sma50 Length = %d\" %len(sma50))\n",
        "\n",
        "sma10 = calcSMA(10)\n",
        "print(\"sma10 = %s\" %sma10)\n",
        "print(\"Sma10 Length = %d\" %len(sma10))\n"
      ],
      "execution_count": 14,
      "outputs": [
        {
          "output_type": "stream",
          "text": [
            "sma50 = {'S': 6.155799999999999, 'DNKN': 71.04279976, 'DIS': 112.01124020000002, 'ENPH': 8.2858, 'F': 8.6746, 'SNE': 45.76520007999999, 'GOOGL': 1151.43780526, 'SPWR': 6.2212, 'TSLA': 292.25139830000006, 'ZG': 36.35939984000001, 'SBUX': 70.57919932, 'YETI': 23.901199939999998, 'LMT': 299.8290033, 'NEE': 186.06959992000003, 'JPM': 103.75159991999999, 'DIA': 256.06060124, 'NTDOY': 35.065999919999996, 'SQ': 75.18359949999999, 'QQQ': 173.68979923999999, 'CMG': 615.2746008199999, 'VIAB': 28.69860006, 'V': 147.53280057999999, 'VSLR': 4.806, 'NDAQ': 86.96739994, 'ADBE': 258.4448025, 'TGT': 74.9369997, 'MJ': 35.99460012, 'NTGR': 36.01839986, 'BA': 397.38779903999995, 'GWPH': 157.95880062, 'TWLO': 118.65960005999999, 'RUN': 14.55699998, 'WBA': 66.5752003, 'BLL': 55.316999939999995, 'MNKD': 1.6886, 'AMZN': 1685.9659985600001, 'CRSP': 35.07000028, 'SNAP': 9.450000000000001, 'AVGO': 280.46640074, 'EXPE': 123.35020036000002, 'NOC': 277.68859915999997, 'YELP': 36.419399940000005, 'TNDM': 56.94939988000001, 'HD': 186.60119932, 'AAL': 33.92679996, 'OGEN': 0.8330000000000001, 'CSCO': 50.60900014, 'NVDA': 160.70279908000003, 'PCG': 16.981199840000002, 'NBEV': 5.931399999999999, 'LOGI': 37.36460006, 'AGG': 107.5288002, 'SMCI': 18.65980004, 'SKYW': 52.93219998000001, 'SPOT': 140.78860104, 'LITE': 49.86300010000001, 'CVS': 59.84820021999999, 'GRUB': 76.83939987999999, 'LQD': 116.68580006, 'PNC': 124.84500012000001, 'MTCH': 55.47620022000001, 'AMRN': 18.85200006, 'NFLX': 353.92759939999996, 'TXN': 106.52739992000001, 'WMT': 97.84499966, 'ADSK': 155.23160066000003, 'ALK': 60.30380008, 'T': 30.549399859999998, 'MCD': 182.29899994, 'SIRI': 5.9322, 'GPRO': 5.925599999999999, 'FNKO': 19.47899984, 'MSI': 135.00620004, 'DUK': 89.15159973999998, 'KR': 26.812599880000004, 'IEF': 104.82079974, 'ACB': 8.011, 'CAMT': 8.538, 'PG': 99.11570035999999, 'EA': 97.25579952000002, 'CRON': 20.40940004, 'DBX': 23.50919998, 'SHY': 83.7662003, 'PYPL': 97.19060015999999, 'AMD': 23.974799939999997, 'BAC': 28.759800040000002, 'DAL': 50.5826, 'ATVI': 44.58219986, 'FITB': 26.93160002, 'NIO': 7.1038, 'SPY': 276.9903992, 'TMUS': 70.76340013999999, 'AOBC': 11.1594, 'TRIP': 54.27540008, 'BSX': 38.94159978, 'GE': 9.829384619999999, 'RTN': 179.50339968, 'CGC': 45.868399999999994, 'FB': 164.86339930000003, 'MDB': 112.83739889999998, 'VZ': 56.635200000000005, 'MO': 51.990499920000005, 'NTNX': 44.85880008000001, 'APHA': 9.5284, 'WDC': 47.88340023999999, 'STZ': 171.16680025999997, 'MSFT': 111.56360004, 'NVTA': 19.33999998, 'AAPL': 176.82859983999998, 'FIT': 6.146400000000001, 'HEXO': 5.8636, 'NVAX': 1.3342, 'EADSY': 31.220000159999998, 'INTC': 51.92079974, 'EEM': 42.714000139999996, 'STX': 46.253999780000015, 'PLUG': 1.9003999999999999, 'MU': 40.33060042, 'XXII': 2.1199999999999997, 'EFA': 63.93220006000001, 'BABA': 175.14580112000004, 'TLRY': 74.18500002, 'TWTR': 31.8818, 'FTAI': 16.02820008, 'ELF': 9.136199999999999, 'GH': 61.29599998, 'WFC': 49.41880016, 'BURL': 159.39820095999997, 'LUV': 53.89940024}\n",
            "Sma50 Length = 129\n",
            "sma10 = {'S': 5.8740000000000006, 'DNKN': 74.2660003, 'DIS': 110.1542007, 'ENPH': 9.186, 'F': 8.834, 'SNE': 42.440000299999994, 'GOOGL': 1195.6820069, 'SPWR': 6.590999999999999, 'TSLA': 276.0679963, 'ZG': 35.129, 'SBUX': 73.51699900000001, 'YETI': 30.444, 'LMT': 297.7090057, 'NEE': 191.937999, 'JPM': 102.0819998, 'DIA': 258.8669998, 'NTDOY': 35.8389995, 'SQ': 74.92099979999999, 'QQQ': 180.3959993, 'CMG': 696.730005, 'VIAB': 27.979000099999997, 'V': 155.762001, 'VSLR': 4.951, 'NDAQ': 87.08400040000001, 'ADBE': 266.2820006, 'TGT': 79.69999929999999, 'MJ': 36.4629996, 'NTGR': 33.625999500000006, 'BA': 379.5969999, 'GWPH': 165.8040023, 'TWLO': 128.35499950000002, 'RUN': 14.320999999999998, 'WBA': 60.187, 'BLL': 58.069000100000004, 'MNKD': 1.8979999999999997, 'AMZN': 1791.0389892000003, 'CRSP': 35.9210008, 'SNAP': 10.968, 'AVGO': 299.2630005, 'EXPE': 120.89900050000001, 'NOC': 268.8540008, 'YELP': 34.8829999, 'TNDM': 64.40599970000001, 'HD': 192.7979981, 'AAL': 31.7569998, 'OGEN': 0.594, 'CSCO': 54.0230005, 'NVDA': 180.3619981, 'PCG': 18.1309999, 'NBEV': 5.166, 'LOGI': 38.638999999999996, 'AGG': 108.678, 'SMCI': 21.3320002, 'SKYW': 54.076000199999996, 'SPOT': 139.5040023, 'LITE': 55.7880001, 'CVS': 54.0230004, 'GRUB': 68.8489998, 'LQD': 118.6599999, 'PNC': 123.55100030000001, 'MTCH': 56.47199989999999, 'AMRN': 19.0400004, 'NFLX': 363.99299920000004, 'TXN': 108.6980004, 'WMT': 97.9169991, 'ADSK': 158.66400289999999, 'ALK': 55.910999700000005, 'T': 31.4430001, 'MCD': 188.1769989, 'SIRI': 5.777, 'GPRO': 6.5680000000000005, 'FNKO': 21.3420001, 'MSI': 140.26199780000002, 'DUK': 89.94699849999999, 'KR': 24.1989999, 'IEF': 106.2679993, 'ACB': 9.029, 'CAMT': 9.104, 'PG': 102.8705002, 'EA': 101.2489989, 'CRON': 18.8810002, 'DBX': 21.810999700000004, 'SHY': 84.02700130000001, 'PYPL': 103.66700060000001, 'AMD': 26.472, 'BAC': 27.841000200000003, 'DAL': 52.155000300000005, 'ATVI': 46.61399959999999, 'FITB': 25.506999999999998, 'NIO': 5.228000000000001, 'SPY': 282.7649994, 'TMUS': 70.67900010000001, 'AOBC': 9.401, 'TRIP': 51.835, 'BSX': 38.0240001, 'GE': 10.027, 'RTN': 180.92700050000002, 'CGC': 43.4260003, 'FB': 168.8879973, 'MDB': 147.2659974, 'VZ': 59.504000500000004, 'MO': 56.705499599999996, 'NTNX': 38.3250004, 'APHA': 9.6, 'WDC': 48.565000399999995, 'STZ': 175.26699979999998, 'MSFT': 118.1800011, 'NVTA': 23.460999800000003, 'AAPL': 191.0020017, 'FIT': 5.863000000000001, 'HEXO': 6.555, 'NVAX': 0.5549999999999999, 'EADSY': 32.824999999999996, 'INTC': 53.9719995, 'EEM': 43.0190003, 'STX': 47.667999900000005, 'PLUG': 2.4219999999999997, 'MU': 41.387, 'XXII': 1.75, 'EFA': 65.1330002, 'BABA': 179.2340011, 'TLRY': 64.9409996, 'TWTR': 33.2689998, 'FTAI': 17.0800001, 'ELF': 10.635, 'GH': 73.2699998, 'WFC': 48.663000000000004, 'BURL': 151.4620011, 'LUV': 51.014}\n",
            "Sma10 Length = 129\n"
          ],
          "name": "stdout"
        }
      ]
    },
    {
      "metadata": {
        "id": "2t3nIZngywtt",
        "colab_type": "text"
      },
      "cell_type": "markdown",
      "source": [
        "##calculate the Exponential Moving Average "
      ]
    },
    {
      "metadata": {
        "id": "T_W8G_ekywF7",
        "colab_type": "code",
        "colab": {}
      },
      "cell_type": "code",
      "source": [
        ""
      ],
      "execution_count": 0,
      "outputs": []
    },
    {
      "metadata": {
        "id": "fCDcvJ-4yZbG",
        "colab_type": "code",
        "colab": {}
      },
      "cell_type": "code",
      "source": [
        "dydxAvg = 0\n",
        "dydx2Avg = 0\n",
        "dydxList = []\n",
        "dydx2List = []\n",
        "\n",
        "def CalcDydx(l):\n",
        "    global dydxList\n",
        "    global dydxAvg\n",
        "    dx = 1\n",
        "    dydxList = list(numpy.diff(smaList) / dx)\n",
        "    dydxAvg = mean(dydxList)\n",
        "\n",
        "def calcDydx2():\n",
        "    global dydx2List\n",
        "    global dydx2Avg\n",
        "    dx = 1\n",
        "    dydx2List = list(numpy.diff(dydxList) / dx)\n",
        "    dydx2Avg = mean(dydx2List)\n",
        "\n",
        "\n",
        "calcDydx()\n",
        "print(\"Dydx Length=%d\" %len(dydxList))\n",
        "print(\"Dydx2 Length=%d\" %len(dydx2List))\n",
        "printList(dydxList, \"dy/dx List\")\n",
        "printList(dydx2List, \"d2y/dx2 List\")"
      ],
      "execution_count": 0,
      "outputs": []
    },
    {
      "metadata": {
        "id": "BsdacFpdyZbN",
        "colab_type": "code",
        "colab": {}
      },
      "cell_type": "code",
      "source": [
        "#  (12 * (p0 / p1 – 1))\n",
        "# + (4 * (p0 / p3 – 1))\n",
        "# + (2 * (p0 / p6 – 1))\n",
        "# +      (p0 / p12 – 1)\n",
        "# Where p0 = the asset price at today’s close, \n",
        "# p1 = the asset price at the close of the previous month, etc.\n",
        "\n",
        "today = datetime.datetime.today().strftime('%Y/%m/%d')\n",
        "momentum = [0 for x in range(0,4)]\n",
        "confidence = 0\n",
        "\n",
        "def dayDif(d1, d2):\n",
        "    d1 = datetime.strptime(d1, '%Y/%m/%d')\n",
        "    d2 = datetime.strptime(d2, '%Y/%m/%d')\n",
        "    return abs((d2 - d1).days)\n",
        "    \n",
        "def calcMomentum():\n",
        "    global momentum\n",
        "    p0=0.0; p1=0.0; p3=0.0; p6=0.0; p12=0.0\n",
        "    months = ['12','11','10','09','08','07','06','05','04','03','02','01','12','11','10','09','08','07','06','05','04','03','02','01']\n",
        "    p0_mn = dateList[0][5:7] # current month\n",
        "    p1_mn = months[months.index(p0_mn)+1]\n",
        "    p3_mn = months[months.index(p0_mn)+3]\n",
        "    p6_mn = months[months.index(p0_mn)+6]\n",
        "    p12_mn = months[months.index(p0_mn)+12]\n",
        "    \n",
        "    #print(\"p0_mn=%s, p1_mn=%s, p3_mn=%s, p6_mn=%s, p12_mn=%s\" %(p0_mn,p1_mn,p3_mn,p6_mn,p12_mn))\n",
        "    for d in dateList:\n",
        "        dates = d.split(\"/\")\n",
        "        if dates[1] == p0_mn and p0 == 0:\n",
        "            p0 = float(closeDic[d])\n",
        "            #print(\"%s : p0=%f\\n\" %(d,p0))\n",
        "        elif dates[1] == p1_mn and p1 == 0:\n",
        "            p1 = float(closeDic[d])\n",
        "            #print(\"%s : p1=%f\\n\" %(d,p1))\n",
        "        elif dates[1] == p3_mn and p3 == 0:\n",
        "            p3 = float(closeDic[d])\n",
        "            #print(\"%s : p3=%f\\n\" %(d,p3))\n",
        "        elif dates[1] == p6_mn and p6 == 0:\n",
        "            p6 = float(closeDic[d])\n",
        "            #print(\"%s : p6=%f\\n\" %(d,p6))\n",
        "        elif dates[1] == p12_mn and p12 == 0 and p6 != 0: \n",
        "            p12 = float(closeDic[d])\n",
        "            #print(\"%s : p12=%f\\n\" %(d,p12))\n",
        "            break\n",
        "    \n",
        "    #print(\"p0=%f, p1=%f, p3=%f, p6=%f, p12=%f\" %(p0,p1,p3,p6,p12))\n",
        "    momentum[0] = 12 * (p0 / p1 - 1)\n",
        "    momentum[1] = 4 * (p0 / p3 - 1)\n",
        "    momentum[2] = 2 * (p0 / p6 - 1)\n",
        "    momentum[3] = 1 * (p0 / p12 - 1)\n",
        "    print(\"momentum[0]=%f \\nmomentum[1]=%f \\nmomentum[2]=%f\\nmomentum[3]=%f\" %(momentum[0],momentum[1],momentum[2],momentum[3]))\n",
        "    confidence = momentum[0] + momentum[1] + momentum[2] + momentum[3]\n",
        "    return confidence\n",
        "\n",
        "\n",
        "print(\"Today is %s\" %today)\n",
        "confidence = calcMomentum()\n",
        "print(\"Confidence: %f\" %confidence)\n",
        "#printDateList()\n",
        "printList(momentum, \"Momentum List\")"
      ],
      "execution_count": 0,
      "outputs": []
    },
    {
      "metadata": {
        "id": "ha-WJIa6yZbU",
        "colab_type": "code",
        "colab": {}
      },
      "cell_type": "code",
      "source": [
        "ema10List = [None for x in closeList]\n",
        "ema10Dic = {}\n",
        "\n",
        "\n",
        "# starts from bottom of list\n",
        "def calcEMA(start, period, emaList, emaDic,smaList):\n",
        "    if period == 10: smaList = sma10List\n",
        "    elif period == 50: smaList = sma50List\n",
        "    \n",
        "    print(\"params: %d, %d - \" %(start,period))\n",
        "    if start == 0:\n",
        "        return\n",
        "    if start > len(closeList)-period-1:\n",
        "        print(start)\n",
        "        print(len(smaList))\n",
        "        #print(smaList[start])\n",
        "        emaList.insert(start,smaList[start])\n",
        "        emaDic[dateList[start]] = smaList[start]\n",
        "    else:\n",
        "        smoothing = 2 / (period + 1)\n",
        "        w = smoothing / (period + 1)\n",
        "        #print(len(emaList))\n",
        "        ema = (closeList[start] * w) + (emaList[start+1] * (1 - w))\n",
        "        #print(\"EMA=%f - \" %ema, end=\"\")\n",
        "        if ema != 0:\n",
        "            emaList.insert(start,ema)\n",
        "            emaDic[dateList[start]] = ema\n",
        "        #print(emaList[start])\n",
        "    calcEMA(start-1,period,emaList,emaDic,smaList)\n",
        "    return emaList,emaDic\n",
        "\n",
        "'''\n",
        "def calcSMA(start, period, smaList, smaDic):\n",
        "    if start+period-1 == len(closeList):\n",
        "        return\n",
        "    sma = mean(closeList[start:period+start])\n",
        "    smaList.insert(start,sma)\n",
        "    smaDic[dateList[start+period-1]] = sma\n",
        "    calcSMA(start+1, period, smaList, smaDic)\n",
        "    return smaList, smaDic\n",
        "'''\n",
        "\n",
        "ema10List,ema10Dic = calcEMA(len(closeList)-1,10,ema10List,ema10Dic,sma10List)\n",
        "#ema10List = calcEMA2(len(closeList)-1,10,ema10List,ema10Dic)\n",
        "#ema10List = ema10List.reverse()\n",
        "#printDic(ema10Dic, \"EMA 10 Dictionary\")"
      ],
      "execution_count": 0,
      "outputs": []
    },
    {
      "metadata": {
        "id": "KEe-1kc2yZbc",
        "colab_type": "code",
        "colab": {}
      },
      "cell_type": "code",
      "source": [
        "legendList = [\"Close\", \"50-day SMA\", \"10-day SMA \",\"EMA\"]\n",
        "\n",
        "def graph(*args): \n",
        "    i = 0 \n",
        "    for arg in args:\n",
        "        #arg = scale(arg)\n",
        "        x = [z for z in range(0,len(arg))]\n",
        "        y = []\n",
        "        for v in arg:\n",
        "            y.append(float(v))\n",
        "        y.reverse()\n",
        "        plt.plot(x,y,label=legendList[i])\n",
        "        i += 1\n",
        "def plotGraph(): \n",
        "    plt.figure(figsize=(12,7)) \n",
        "    plt.style.use('seaborn-white') \n",
        "    tmp = list(ema10Dic.values())\n",
        "    print(tmp)\n",
        "    graph(sma50List,sma10List,closeList,tmp)\n",
        "    plt.title(\"Apple\")\n",
        "    plt.ylabel(\"Price\")\n",
        "    plt.xlabel(\"Days\")\n",
        "    plt.legend(loc = 1, frameon = True, fancybox = True, shadow = True)    \n",
        "    plt.show()\n",
        "\n",
        "plotGraph()"
      ],
      "execution_count": 0,
      "outputs": []
    },
    {
      "metadata": {
        "id": "fhRjr5SGyZbj",
        "colab_type": "code",
        "colab": {}
      },
      "cell_type": "code",
      "source": [
        ""
      ],
      "execution_count": 0,
      "outputs": []
    }
  ]
}