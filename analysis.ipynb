{
  "nbformat": 4,
  "nbformat_minor": 0,
  "metadata": {
    "colab": {
      "name": "test1.ipynb",
      "version": "0.3.2",
      "provenance": [],
      "include_colab_link": true
    },
    "language_info": {
      "codemirror_mode": {
        "name": "ipython",
        "version": 3
      },
      "file_extension": ".py",
      "mimetype": "text/x-python",
      "name": "python",
      "nbconvert_exporter": "python",
      "pygments_lexer": "ipython3",
      "version": "3.7.1"
    },
    "kernelspec": {
      "display_name": "Python 3",
      "language": "python",
      "name": "python3"
    }
  },
  "cells": [
    {
      "cell_type": "markdown",
      "metadata": {
        "id": "view-in-github",
        "colab_type": "text"
      },
      "source": [
        "<a href=\"https://colab.research.google.com/github/nicknovoa03/Stock-trader/blob/Nick-Dev/analysis.ipynb\" target=\"_parent\"><img src=\"https://colab.research.google.com/assets/colab-badge.svg\" alt=\"Open In Colab\"/></a>"
      ]
    },
    {
      "metadata": {
        "id": "TTmdQMVhsctE",
        "colab_type": "text"
      },
      "cell_type": "markdown",
      "source": [
        "##Unzip stock  to have access to files in notebook enviorment\n",
        "  * using in google colab\n"
      ]
    },
    {
      "metadata": {
        "id": "EVqma1wN4jUN",
        "colab_type": "code",
        "colab": {
          "base_uri": "https://localhost:8080/",
          "height": 54
        },
        "outputId": "59927898-7779-461b-8491-20235bb6d69d"
      },
      "cell_type": "code",
      "source": [
        "'''\n",
        "import zipfile\n",
        "\n",
        "zname = 'stocks.zip'\n",
        "\n",
        "with zipfile.ZipFile(zname,'r') as zip_ref:\n",
        "  zip_ref.extractall()\n",
        "'''"
      ],
      "execution_count": 157,
      "outputs": [
        {
          "output_type": "execute_result",
          "data": {
            "text/plain": [
              "\"\\nimport zipfile\\n\\nzname = 'stocks.zip'\\n\\nwith zipfile.ZipFile(zname,'r') as zip_ref:\\n  zip_ref.extractall()\\n\""
            ]
          },
          "metadata": {
            "tags": []
          },
          "execution_count": 157
        }
      ]
    },
    {
      "metadata": {
        "id": "HCsF4e73svkZ",
        "colab_type": "text"
      },
      "cell_type": "markdown",
      "source": [
        "##Import all information from quotes from their .csv's\n",
        "* 'date', 'open', 'high', 'low', 'close', 'adjclose', 'volume' for each stock"
      ]
    },
    {
      "metadata": {
        "id": "X5Cp9sylyZa4",
        "colab_type": "code",
        "colab": {}
      },
      "cell_type": "code",
      "source": [
        "import numpy as np\n",
        "import pandas as pd\n",
        "from statistics import mean\n",
        "import datetime\n",
        "import matplotlib.pyplot as plt\n",
        "\n",
        "# All lists and Dictionaries ordered from most recent to oldest\n",
        "allData = {}\n",
        "close = {}\n",
        "\n",
        "# Date,Open,High,Low,Close,Adj Close,Volume\n",
        "# 1980-12-12,0.513393,0.515625,0.513393,0.513393,0.023007,117258400\n",
        "# 1980-12-15,0.488839,0.488839,0.486607,0.486607,null,43971200\n",
        "# ...\n",
        "dirpath = 'stocks/quotes'\n",
        "for file in os.listdir(dirpath):\n",
        "    symbol = os.path.splitext(file)[0]\n",
        "    if symbol[0] == '.':\n",
        "      continue\n",
        "    #print('Stock:',symbol)\n",
        "    path = dirpath + '/' + file\n",
        "    dt = {'names':('date','open','high','low','close','adjclose','volume'),\n",
        "        'formats':('U10',np.float, np.float, np.float, np.float, np.float, np.float)}\n",
        "    npdata = np.genfromtxt(path, skip_header=1, dtype=dt, delimiter=',')\n",
        "    close[symbol] = npdata['close']\n",
        "    allData[symbol] = npdata\n"
      ],
      "execution_count": 0,
      "outputs": []
    },
    {
      "metadata": {
        "id": "iraagL0QtMbq",
        "colab_type": "text"
      },
      "cell_type": "markdown",
      "source": [
        "##Calculate Small Moving Averages over a period using numpy"
      ]
    },
    {
      "metadata": {
        "id": "gMvFkV7Eev6I",
        "colab_type": "code",
        "colab": {}
      },
      "cell_type": "code",
      "source": [
        "def calcSMA(period):\n",
        "  temp = {}\n",
        "  start = 0\n",
        "  sma = 0\n",
        "  for sym,val in close.items():\n",
        "    #check if length of all closing values is bigger than the period\n",
        "    if val.size-period < 0:\n",
        "      print(val,\"closing array length of:\",val.size,\"...expected ~\",start+period-1)\n",
        "      continue\n",
        "    #get the SMA for each stock\n",
        "    start = val.size - period\n",
        "    sma = np.mean(val[start:])\n",
        "    #Add to temp dictionary with key being the symbol and value is SMA\n",
        "    temp[sym] = sma\n",
        "  return temp\n",
        "\n",
        "def calcAvgSMA(nDaySMA):\n",
        "  #get list of all SMA, 1 per company\n",
        "  vals = list(nDaySMA.values())\n",
        "  #return single average value of all SMA's\n",
        "  return(np.mean(vals))\n",
        "\n",
        "sma50Dic = calcSMA(50)\n",
        "\n",
        "sma10Dic = calcSMA(10)\n",
        "\n",
        "avg50SMA = calcAvgSMA(sma50Dic)\n",
        "\n",
        "avg10Dic = calcAvgSMA(sma10Dic)"
      ],
      "execution_count": 0,
      "outputs": []
    },
    {
      "metadata": {
        "id": "85uJLS-LyZbB",
        "colab_type": "code",
        "colab": {
          "base_uri": "https://localhost:8080/",
          "height": 351
        },
        "outputId": "7fcdd42f-bf94-430b-82a1-a4575361625d"
      },
      "cell_type": "code",
      "source": [
        "sma50Avg = 0\n",
        "sma50List = []\n",
        "sma50Dic = {}\n",
        "\n",
        "sma10Avg = 0\n",
        "sma10List = []\n",
        "sma10Dic = {}\n",
        "\n",
        "\n",
        "def calcSMA(start, period, smaList, smaDic):\n",
        "    if start+period-1 == len(closeList):\n",
        "        return\n",
        "    sma = mean(closeList[start:period+start])\n",
        "    smaList.insert(start,sma)\n",
        "    smaDic[dateList[start+period-1]] = sma\n",
        "    calcSMA(start+1, period, smaList, smaDic)\n",
        "    return smaList, smaDic\n",
        "    \n",
        "    \n",
        "def calcAvgSMA(start, period):\n",
        "    return mean(smaList[start:period])\n",
        "\n",
        "\n",
        "#print(\"closeList Length=%d\" %len(closeList))\n",
        "calcSMA(0,50,sma50List,sma50Dic)\n",
        "sma50Avg = calcAvgSMA(0,50)\n",
        "print(\"sma50Avg=%f\" %sma50Avg)\n",
        "print(\"Sma50List Length=%d\" %len(sma50List))\n",
        "printList(sma50List, \"SMA 50 List\")\n",
        "printDic(sma50Dic, \"SMA 50 Dictionary\")\n",
        "\n",
        "calcSMA(0,10,sma10List,sma10Dic)\n",
        "sma10Avg = calcAvgSMA(0,10)\n",
        "print(\"sma10Avg=%f\" %sma10Avg)\n",
        "print(\"Sma10List Length=%d\" %len(sma10List))\n",
        "printList(sma10List, \"SMA 10 List\")\n",
        "printDic(sma10Dic, \"SMA 10 Dictionary\")\n",
        "\n",
        "#print(smaList)\n",
        "#print(smaDic)"
      ],
      "execution_count": 160,
      "outputs": [
        {
          "output_type": "error",
          "ename": "NameError",
          "evalue": "ignored",
          "traceback": [
            "\u001b[0;31m---------------------------------------------------------------------------\u001b[0m",
            "\u001b[0;31mNameError\u001b[0m                                 Traceback (most recent call last)",
            "\u001b[0;32m<ipython-input-160-186d09b51b29>\u001b[0m in \u001b[0;36m<module>\u001b[0;34m()\u001b[0m\n\u001b[1;32m     23\u001b[0m \u001b[0;34m\u001b[0m\u001b[0m\n\u001b[1;32m     24\u001b[0m \u001b[0;31m#print(\"closeList Length=%d\" %len(closeList))\u001b[0m\u001b[0;34m\u001b[0m\u001b[0;34m\u001b[0m\u001b[0;34m\u001b[0m\u001b[0m\n\u001b[0;32m---> 25\u001b[0;31m \u001b[0mcalcSMA\u001b[0m\u001b[0;34m(\u001b[0m\u001b[0;36m0\u001b[0m\u001b[0;34m,\u001b[0m\u001b[0;36m50\u001b[0m\u001b[0;34m,\u001b[0m\u001b[0msma50List\u001b[0m\u001b[0;34m,\u001b[0m\u001b[0msma50Dic\u001b[0m\u001b[0;34m)\u001b[0m\u001b[0;34m\u001b[0m\u001b[0;34m\u001b[0m\u001b[0m\n\u001b[0m\u001b[1;32m     26\u001b[0m \u001b[0msma50Avg\u001b[0m \u001b[0;34m=\u001b[0m \u001b[0mcalcAvgSMA\u001b[0m\u001b[0;34m(\u001b[0m\u001b[0;36m0\u001b[0m\u001b[0;34m,\u001b[0m\u001b[0;36m50\u001b[0m\u001b[0;34m)\u001b[0m\u001b[0;34m\u001b[0m\u001b[0;34m\u001b[0m\u001b[0m\n\u001b[1;32m     27\u001b[0m \u001b[0mprint\u001b[0m\u001b[0;34m(\u001b[0m\u001b[0;34m\"sma50Avg=%f\"\u001b[0m \u001b[0;34m%\u001b[0m\u001b[0msma50Avg\u001b[0m\u001b[0;34m)\u001b[0m\u001b[0;34m\u001b[0m\u001b[0;34m\u001b[0m\u001b[0m\n",
            "\u001b[0;32m<ipython-input-160-186d09b51b29>\u001b[0m in \u001b[0;36mcalcSMA\u001b[0;34m(start, period, smaList, smaDic)\u001b[0m\n\u001b[1;32m      9\u001b[0m \u001b[0;34m\u001b[0m\u001b[0m\n\u001b[1;32m     10\u001b[0m \u001b[0;32mdef\u001b[0m \u001b[0mcalcSMA\u001b[0m\u001b[0;34m(\u001b[0m\u001b[0mstart\u001b[0m\u001b[0;34m,\u001b[0m \u001b[0mperiod\u001b[0m\u001b[0;34m,\u001b[0m \u001b[0msmaList\u001b[0m\u001b[0;34m,\u001b[0m \u001b[0msmaDic\u001b[0m\u001b[0;34m)\u001b[0m\u001b[0;34m:\u001b[0m\u001b[0;34m\u001b[0m\u001b[0;34m\u001b[0m\u001b[0m\n\u001b[0;32m---> 11\u001b[0;31m     \u001b[0;32mif\u001b[0m \u001b[0mstart\u001b[0m\u001b[0;34m+\u001b[0m\u001b[0mperiod\u001b[0m\u001b[0;34m-\u001b[0m\u001b[0;36m1\u001b[0m \u001b[0;34m==\u001b[0m \u001b[0mlen\u001b[0m\u001b[0;34m(\u001b[0m\u001b[0mcloseList\u001b[0m\u001b[0;34m)\u001b[0m\u001b[0;34m:\u001b[0m\u001b[0;34m\u001b[0m\u001b[0;34m\u001b[0m\u001b[0m\n\u001b[0m\u001b[1;32m     12\u001b[0m         \u001b[0;32mreturn\u001b[0m\u001b[0;34m\u001b[0m\u001b[0;34m\u001b[0m\u001b[0m\n\u001b[1;32m     13\u001b[0m     \u001b[0msma\u001b[0m \u001b[0;34m=\u001b[0m \u001b[0mmean\u001b[0m\u001b[0;34m(\u001b[0m\u001b[0mcloseList\u001b[0m\u001b[0;34m[\u001b[0m\u001b[0mstart\u001b[0m\u001b[0;34m:\u001b[0m\u001b[0mperiod\u001b[0m\u001b[0;34m+\u001b[0m\u001b[0mstart\u001b[0m\u001b[0;34m]\u001b[0m\u001b[0;34m)\u001b[0m\u001b[0;34m\u001b[0m\u001b[0;34m\u001b[0m\u001b[0m\n",
            "\u001b[0;31mNameError\u001b[0m: name 'closeList' is not defined"
          ]
        }
      ]
    },
    {
      "metadata": {
        "id": "fCDcvJ-4yZbG",
        "colab_type": "code",
        "colab": {}
      },
      "cell_type": "code",
      "source": [
        "dydxAvg = 0\n",
        "dydx2Avg = 0\n",
        "dydxList = []\n",
        "dydx2List = []\n",
        "\n",
        "def CalcDydx(l):\n",
        "    global dydxList\n",
        "    global dydxAvg\n",
        "    dx = 1\n",
        "    dydxList = list(numpy.diff(smaList) / dx)\n",
        "    dydxAvg = mean(dydxList)\n",
        "\n",
        "def calcDydx2():\n",
        "    global dydx2List\n",
        "    global dydx2Avg\n",
        "    dx = 1\n",
        "    dydx2List = list(numpy.diff(dydxList) / dx)\n",
        "    dydx2Avg = mean(dydx2List)\n",
        "\n",
        "\n",
        "calcDydx()\n",
        "print(\"Dydx Length=%d\" %len(dydxList))\n",
        "print(\"Dydx2 Length=%d\" %len(dydx2List))\n",
        "printList(dydxList, \"dy/dx List\")\n",
        "printList(dydx2List, \"d2y/dx2 List\")"
      ],
      "execution_count": 0,
      "outputs": []
    },
    {
      "metadata": {
        "id": "BsdacFpdyZbN",
        "colab_type": "code",
        "colab": {}
      },
      "cell_type": "code",
      "source": [
        "#  (12 * (p0 / p1 – 1))\n",
        "# + (4 * (p0 / p3 – 1))\n",
        "# + (2 * (p0 / p6 – 1))\n",
        "# +      (p0 / p12 – 1)\n",
        "# Where p0 = the asset price at today’s close, \n",
        "# p1 = the asset price at the close of the previous month, etc.\n",
        "\n",
        "today = datetime.datetime.today().strftime('%Y/%m/%d')\n",
        "momentum = [0 for x in range(0,4)]\n",
        "confidence = 0\n",
        "\n",
        "def dayDif(d1, d2):\n",
        "    d1 = datetime.strptime(d1, '%Y/%m/%d')\n",
        "    d2 = datetime.strptime(d2, '%Y/%m/%d')\n",
        "    return abs((d2 - d1).days)\n",
        "    \n",
        "def calcMomentum():\n",
        "    global momentum\n",
        "    p0=0.0; p1=0.0; p3=0.0; p6=0.0; p12=0.0\n",
        "    months = ['12','11','10','09','08','07','06','05','04','03','02','01','12','11','10','09','08','07','06','05','04','03','02','01']\n",
        "    p0_mn = dateList[0][5:7] # current month\n",
        "    p1_mn = months[months.index(p0_mn)+1]\n",
        "    p3_mn = months[months.index(p0_mn)+3]\n",
        "    p6_mn = months[months.index(p0_mn)+6]\n",
        "    p12_mn = months[months.index(p0_mn)+12]\n",
        "    \n",
        "    #print(\"p0_mn=%s, p1_mn=%s, p3_mn=%s, p6_mn=%s, p12_mn=%s\" %(p0_mn,p1_mn,p3_mn,p6_mn,p12_mn))\n",
        "    for d in dateList:\n",
        "        dates = d.split(\"/\")\n",
        "        if dates[1] == p0_mn and p0 == 0:\n",
        "            p0 = float(closeDic[d])\n",
        "            #print(\"%s : p0=%f\\n\" %(d,p0))\n",
        "        elif dates[1] == p1_mn and p1 == 0:\n",
        "            p1 = float(closeDic[d])\n",
        "            #print(\"%s : p1=%f\\n\" %(d,p1))\n",
        "        elif dates[1] == p3_mn and p3 == 0:\n",
        "            p3 = float(closeDic[d])\n",
        "            #print(\"%s : p3=%f\\n\" %(d,p3))\n",
        "        elif dates[1] == p6_mn and p6 == 0:\n",
        "            p6 = float(closeDic[d])\n",
        "            #print(\"%s : p6=%f\\n\" %(d,p6))\n",
        "        elif dates[1] == p12_mn and p12 == 0 and p6 != 0: \n",
        "            p12 = float(closeDic[d])\n",
        "            #print(\"%s : p12=%f\\n\" %(d,p12))\n",
        "            break\n",
        "    \n",
        "    #print(\"p0=%f, p1=%f, p3=%f, p6=%f, p12=%f\" %(p0,p1,p3,p6,p12))\n",
        "    momentum[0] = 12 * (p0 / p1 - 1)\n",
        "    momentum[1] = 4 * (p0 / p3 - 1)\n",
        "    momentum[2] = 2 * (p0 / p6 - 1)\n",
        "    momentum[3] = 1 * (p0 / p12 - 1)\n",
        "    print(\"momentum[0]=%f \\nmomentum[1]=%f \\nmomentum[2]=%f\\nmomentum[3]=%f\" %(momentum[0],momentum[1],momentum[2],momentum[3]))\n",
        "    confidence = momentum[0] + momentum[1] + momentum[2] + momentum[3]\n",
        "    return confidence\n",
        "\n",
        "\n",
        "print(\"Today is %s\" %today)\n",
        "confidence = calcMomentum()\n",
        "print(\"Confidence: %f\" %confidence)\n",
        "#printDateList()\n",
        "printList(momentum, \"Momentum List\")"
      ],
      "execution_count": 0,
      "outputs": []
    },
    {
      "metadata": {
        "id": "ha-WJIa6yZbU",
        "colab_type": "code",
        "colab": {}
      },
      "cell_type": "code",
      "source": [
        "ema10List = [None for x in closeList]\n",
        "ema10Dic = {}\n",
        "\n",
        "\n",
        "# starts from bottom of list\n",
        "def calcEMA(start, period, emaList, emaDic,smaList):\n",
        "    if period == 10: smaList = sma10List\n",
        "    elif period == 50: smaList = sma50List\n",
        "    \n",
        "    print(\"params: %d, %d - \" %(start,period))\n",
        "    if start == 0:\n",
        "        return\n",
        "    if start > len(closeList)-period-1:\n",
        "        print(start)\n",
        "        print(len(smaList))\n",
        "        #print(smaList[start])\n",
        "        emaList.insert(start,smaList[start])\n",
        "        emaDic[dateList[start]] = smaList[start]\n",
        "    else:\n",
        "        smoothing = 2 / (period + 1)\n",
        "        w = smoothing / (period + 1)\n",
        "        #print(len(emaList))\n",
        "        ema = (closeList[start] * w) + (emaList[start+1] * (1 - w))\n",
        "        #print(\"EMA=%f - \" %ema, end=\"\")\n",
        "        if ema != 0:\n",
        "            emaList.insert(start,ema)\n",
        "            emaDic[dateList[start]] = ema\n",
        "        #print(emaList[start])\n",
        "    calcEMA(start-1,period,emaList,emaDic,smaList)\n",
        "    return emaList,emaDic\n",
        "\n",
        "'''\n",
        "def calcSMA(start, period, smaList, smaDic):\n",
        "    if start+period-1 == len(closeList):\n",
        "        return\n",
        "    sma = mean(closeList[start:period+start])\n",
        "    smaList.insert(start,sma)\n",
        "    smaDic[dateList[start+period-1]] = sma\n",
        "    calcSMA(start+1, period, smaList, smaDic)\n",
        "    return smaList, smaDic\n",
        "'''\n",
        "\n",
        "ema10List,ema10Dic = calcEMA(len(closeList)-1,10,ema10List,ema10Dic,sma10List)\n",
        "#ema10List = calcEMA2(len(closeList)-1,10,ema10List,ema10Dic)\n",
        "#ema10List = ema10List.reverse()\n",
        "#printDic(ema10Dic, \"EMA 10 Dictionary\")"
      ],
      "execution_count": 0,
      "outputs": []
    },
    {
      "metadata": {
        "id": "KEe-1kc2yZbc",
        "colab_type": "code",
        "colab": {}
      },
      "cell_type": "code",
      "source": [
        "legendList = [\"Close\", \"50-day SMA\", \"10-day SMA \",\"EMA\"]\n",
        "\n",
        "def graph(*args): \n",
        "    i = 0 \n",
        "    for arg in args:\n",
        "        #arg = scale(arg)\n",
        "        x = [z for z in range(0,len(arg))]\n",
        "        y = []\n",
        "        for v in arg:\n",
        "            y.append(float(v))\n",
        "        y.reverse()\n",
        "        plt.plot(x,y,label=legendList[i])\n",
        "        i += 1\n",
        "def plotGraph(): \n",
        "    plt.figure(figsize=(12,7)) \n",
        "    plt.style.use('seaborn-white') \n",
        "    tmp = list(ema10Dic.values())\n",
        "    print(tmp)\n",
        "    graph(sma50List,sma10List,closeList,tmp)\n",
        "    plt.title(\"Apple\")\n",
        "    plt.ylabel(\"Price\")\n",
        "    plt.xlabel(\"Days\")\n",
        "    plt.legend(loc = 1, frameon = True, fancybox = True, shadow = True)    \n",
        "    plt.show()\n",
        "\n",
        "plotGraph()"
      ],
      "execution_count": 0,
      "outputs": []
    },
    {
      "metadata": {
        "id": "fhRjr5SGyZbj",
        "colab_type": "code",
        "colab": {}
      },
      "cell_type": "code",
      "source": [
        ""
      ],
      "execution_count": 0,
      "outputs": []
    }
  ]
}