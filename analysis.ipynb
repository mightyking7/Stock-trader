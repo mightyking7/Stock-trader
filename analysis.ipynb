{
  "nbformat": 4,
  "nbformat_minor": 0,
  "metadata": {
    "colab": {
      "name": "test1.ipynb",
      "version": "0.3.2",
      "provenance": [],
      "toc_visible": true,
      "include_colab_link": true
    },
    "language_info": {
      "codemirror_mode": {
        "name": "ipython",
        "version": 3
      },
      "file_extension": ".py",
      "mimetype": "text/x-python",
      "name": "python",
      "nbconvert_exporter": "python",
      "pygments_lexer": "ipython3",
      "version": "3.7.1"
    },
    "kernelspec": {
      "display_name": "Python 3",
      "language": "python",
      "name": "python3"
    }
  },
  "cells": [
    {
      "cell_type": "markdown",
      "metadata": {
        "id": "view-in-github",
        "colab_type": "text"
      },
      "source": [
        "<a href=\"https://colab.research.google.com/github/nicknovoa03/Stock-trader/blob/Nick-Dev/analysis.ipynb\" target=\"_parent\"><img src=\"https://colab.research.google.com/assets/colab-badge.svg\" alt=\"Open In Colab\"/></a>"
      ]
    },
    {
      "metadata": {
        "id": "TTmdQMVhsctE",
        "colab_type": "text"
      },
      "cell_type": "markdown",
      "source": [
        "##Unzip stock  to have access to files in notebook enviorment\n",
        "  * using in google colab\n"
      ]
    },
    {
      "metadata": {
        "id": "EVqma1wN4jUN",
        "colab_type": "code",
        "colab": {}
      },
      "cell_type": "code",
      "source": [
        "import zipfile\n",
        "\n",
        "zname = 'stocks.zip'\n",
        "\n",
        "with zipfile.ZipFile(zname,'r') as zip_ref:\n",
        "  zip_ref.extractall()"
      ],
      "execution_count": 0,
      "outputs": []
    },
    {
      "metadata": {
        "id": "HCsF4e73svkZ",
        "colab_type": "text"
      },
      "cell_type": "markdown",
      "source": [
        "##Import all information from quotes from their .csv's\n",
        "* 'date', 'open', 'high', 'low', 'close', 'adjclose', 'volume' for each stock"
      ]
    },
    {
      "metadata": {
        "id": "X5Cp9sylyZa4",
        "colab_type": "code",
        "colab": {}
      },
      "cell_type": "code",
      "source": [
        "import numpy as np\n",
        "import pandas as pd\n",
        "from statistics import mean\n",
        "import datetime\n",
        "import matplotlib.pyplot as plt\n",
        "import matplotlib.dates as mdates\n",
        "import os\n",
        "\n",
        "# All lists and Dictionaries ordered from most recent to oldest\n",
        "allData = {}\n",
        "close = {}\n",
        "closeDF = {}\n",
        "\n",
        "# Date,Open,High,Low,Close,Adj Close,Volume\n",
        "# 1980-12-12,0.513393,0.515625,0.513393,0.513393,0.023007,117258400\n",
        "# 1980-12-15,0.488839,0.488839,0.486607,0.486607,null,43971200\n",
        "# ...\n",
        "dirpath = 'stocks/quotes'\n",
        "for file in os.listdir(dirpath):\n",
        "    symbol = os.path.splitext(file)[0]\n",
        "    if symbol[0] == '.':\n",
        "      continue\n",
        "    #print('Stock:',symbol)\n",
        "    path = dirpath + '/' + file\n",
        "    dt = {'names':('date','open','high','low','close','adjclose','volume'),\n",
        "        'formats':('U10',np.float, np.float, np.float, np.float, np.float, np.float)}\n",
        "    \n",
        "    npdata = np.genfromtxt(path, skip_header=1, dtype=dt, delimiter=',')\n",
        "    \n",
        "    closeDF[symbol] = pd.DataFrame({symbol : npdata['close']},index=npdata['date']) \n",
        "    allData[symbol] = npdata\n"
      ],
      "execution_count": 0,
      "outputs": []
    },
    {
      "metadata": {
        "id": "iraagL0QtMbq",
        "colab_type": "text"
      },
      "cell_type": "markdown",
      "source": [
        "##Calculate Small Moving Averages using Pandas\n",
        " * return a dictionay where each key is the symbol and the value is a pandas DataFrame with the moving average for that day"
      ]
    },
    {
      "metadata": {
        "id": "gMvFkV7Eev6I",
        "colab_type": "code",
        "colab": {}
      },
      "cell_type": "code",
      "source": [
        "def calcSMA(period):\n",
        "  temp = {}\n",
        "  start = 0\n",
        "  sma = 0\n",
        "  for sym,val in closeDF.items():\n",
        "    #check if length of all closing values is bigger than the period\n",
        "    if val.size-period < 0:\n",
        "      print(val,\"closing array length of:\",val.size,\"...expected ~\",start+period-1)\n",
        "      continue\n",
        "    #get the SMA for each stock with pandas\n",
        "    sma = val.rolling(window=period).mean()\n",
        "    #Add to temp dictionary with key being the symbol and value is SMA\n",
        "    temp[sym] = sma\n",
        "  return temp\n"
      ],
      "execution_count": 0,
      "outputs": []
    },
    {
      "metadata": {
        "id": "85uJLS-LyZbB",
        "colab_type": "code",
        "colab": {}
      },
      "cell_type": "code",
      "source": [
        "sma50 = calcSMA(50)\n",
        "#print(\"sma50 = %s\" %sma50)\n",
        "#print(\"Sma50 Length = %d\" %len(sma50))\n",
        "\n",
        "sma10 = calcSMA(10)\n",
        "#print(\"sma10 = %s\" %sma10)\n",
        "#print(\"Sma10 Length = %d\" %len(sma10))\n"
      ],
      "execution_count": 0,
      "outputs": []
    },
    {
      "metadata": {
        "id": "GgIp1aqvyeig",
        "colab_type": "code",
        "colab": {
          "base_uri": "https://localhost:8080/",
          "height": 255
        },
        "outputId": "651d3078-665d-416b-ade6-fbaeb762550f"
      },
      "cell_type": "code",
      "source": [
        "\n",
        "symbol = \"AAPL\"\n",
        "start = sma50[symbol].size - 50\n",
        "df = sma50[symbol]\n",
        "\n",
        "print(df.loc[sd:,:].index, df.loc[sd:, symbol],label='Price')"
      ],
      "execution_count": 96,
      "outputs": [
        {
          "output_type": "stream",
          "text": [
            "Index(['2019-01-02', '2019-01-03', '2019-01-04', '2019-01-07', '2019-01-08',\n",
            "       '2019-01-09', '2019-01-10', '2019-01-11', '2019-01-14', '2019-01-15',\n",
            "       '2019-01-16', '2019-01-17', '2019-01-18', '2019-01-22', '2019-01-23',\n",
            "       '2019-01-24', '2019-01-25', '2019-01-28', '2019-01-29', '2019-01-30',\n",
            "       '2019-01-31', '2019-02-01', '2019-02-04', '2019-02-05', '2019-02-06',\n",
            "       '2019-02-07', '2019-02-08', '2019-02-11', '2019-02-12', '2019-02-13',\n",
            "       '2019-02-14', '2019-02-15', '2019-02-19', '2019-02-20', '2019-02-21',\n",
            "       '2019-02-22', '2019-02-25', '2019-02-26', '2019-02-27', '2019-02-28',\n",
            "       '2019-03-01', '2019-03-04', '2019-03-05', '2019-03-06', '2019-03-07',\n",
            "       '2019-03-08', '2019-03-11', '2019-03-12', '2019-03-13', '2019-03-14',\n",
            "       '2019-03-15', '2019-03-18', '2019-03-19', '2019-03-20', '2019-03-21',\n",
            "       '2019-03-22', '2019-03-25', '2019-03-26', '2019-03-27', '2019-03-28',\n",
            "       '2019-03-29', '2019-04-01', '2019-04-02', '2019-04-03', '2019-04-04'],\n",
            "      dtype='object')\n"
          ],
          "name": "stdout"
        }
      ]
    },
    {
      "metadata": {
        "id": "EXrJTWsnlKSo",
        "colab_type": "code",
        "colab": {}
      },
      "cell_type": "code",
      "source": [
        "'''\n",
        "\n",
        "symbol = \"AAPL\"\n",
        "start = sma50[symbol].size - 50\n",
        "df = sma50[symbol]\n",
        "my_year_month_fmt = mdates.DateFormatter('%m/%y')\n",
        "sd = '2019-01-01'\n",
        "ed = '2019-04-04'\n",
        "\n",
        "\n",
        "fig ,ax = plt.subplots(figsize=(16,9))\n",
        "\n",
        "ax.plot(df.loc[sd:,:].index, df.loc[sd:, symbol],label='Price')\n",
        "ax.legend(loc=1)\n",
        "ax.set_ylabel('Price in $')\n",
        "ax.xaxis.set_major_formatter(my_year_month_fmt)\n",
        "'''"
      ],
      "execution_count": 0,
      "outputs": []
    },
    {
      "metadata": {
        "id": "2t3nIZngywtt",
        "colab_type": "text"
      },
      "cell_type": "markdown",
      "source": [
        "##calculate the Exponential Moving Average \n",
        "* return a dictionay where each key is the symbol and the value is a pandas DataFrame with the exponential moving averages for each day"
      ]
    },
    {
      "metadata": {
        "id": "e8-XOWGM8Ljv",
        "colab_type": "code",
        "outputId": "f4dee1a1-28a0-46aa-ced7-8ff87f179b2e",
        "colab": {
          "base_uri": "https://localhost:8080/",
          "height": 204
        }
      },
      "cell_type": "code",
      "source": [
        "#just a quick demo to show how the EMA is returned in the dataframe\n",
        "apl = closeDF['AAPL']\n",
        "ema = apl.ewm(span = 20,adjust=False).mean()\n",
        "ema.tail()"
      ],
      "execution_count": 63,
      "outputs": [
        {
          "output_type": "execute_result",
          "data": {
            "text/html": [
              "<div>\n",
              "<style scoped>\n",
              "    .dataframe tbody tr th:only-of-type {\n",
              "        vertical-align: middle;\n",
              "    }\n",
              "\n",
              "    .dataframe tbody tr th {\n",
              "        vertical-align: top;\n",
              "    }\n",
              "\n",
              "    .dataframe thead th {\n",
              "        text-align: right;\n",
              "    }\n",
              "</style>\n",
              "<table border=\"1\" class=\"dataframe\">\n",
              "  <thead>\n",
              "    <tr style=\"text-align: right;\">\n",
              "      <th></th>\n",
              "      <th>AAPL</th>\n",
              "    </tr>\n",
              "  </thead>\n",
              "  <tbody>\n",
              "    <tr>\n",
              "      <th>2019-03-29</th>\n",
              "      <td>184.384892</td>\n",
              "    </tr>\n",
              "    <tr>\n",
              "      <th>2019-04-01</th>\n",
              "      <td>185.037760</td>\n",
              "    </tr>\n",
              "    <tr>\n",
              "      <th>2019-04-02</th>\n",
              "      <td>185.893212</td>\n",
              "    </tr>\n",
              "    <tr>\n",
              "      <th>2019-04-03</th>\n",
              "      <td>186.793859</td>\n",
              "    </tr>\n",
              "    <tr>\n",
              "      <th>2019-04-04</th>\n",
              "      <td>187.641111</td>\n",
              "    </tr>\n",
              "  </tbody>\n",
              "</table>\n",
              "</div>"
            ],
            "text/plain": [
              "                  AAPL\n",
              "2019-03-29  184.384892\n",
              "2019-04-01  185.037760\n",
              "2019-04-02  185.893212\n",
              "2019-04-03  186.793859\n",
              "2019-04-04  187.641111"
            ]
          },
          "metadata": {
            "tags": []
          },
          "execution_count": 63
        }
      ]
    },
    {
      "metadata": {
        "id": "T_W8G_ekywF7",
        "colab_type": "code",
        "outputId": "3cecddab-7c90-49ce-ba26-d14317a93dd7",
        "colab": {
          "base_uri": "https://localhost:8080/",
          "height": 204
        }
      },
      "cell_type": "code",
      "source": [
        "def calcEMA(period):\n",
        "  temp = {}\n",
        "  start = 0\n",
        "  ema = 0\n",
        "  for sym,val in closeDF.items():\n",
        "    #check for valid length of val array\n",
        "    if val.size-period < 0:\n",
        "      print(val,\"closing array length of:\",val.size,\"...expected ~\",start+period-1)\n",
        "      continue\n",
        "    #get the EMA using pandas\n",
        "    ema = val.ewm(span = period, adjust = False).mean()\n",
        "    #add to dictionary with key being the symbol and value is a pandas DataFrame\n",
        "    temp[sym] = ema\n",
        "  return temp\n",
        "\n",
        "ema50 = calcEMA(50)\n",
        "#print(\"sma50 = %s\" %sma50)\n",
        "#print(\"Sma50 Length = %d\" %len(sma50))\n",
        "\n",
        "ema100 = calcEMA(100)\n",
        "#print(\"ema10 = %s\" %ema10)\n",
        "#print(\"ema10 Length = %d\" %len(ema10))\n",
        "\n",
        "ema50['AAPL'].tail()"
      ],
      "execution_count": 60,
      "outputs": [
        {
          "output_type": "execute_result",
          "data": {
            "text/html": [
              "<div>\n",
              "<style scoped>\n",
              "    .dataframe tbody tr th:only-of-type {\n",
              "        vertical-align: middle;\n",
              "    }\n",
              "\n",
              "    .dataframe tbody tr th {\n",
              "        vertical-align: top;\n",
              "    }\n",
              "\n",
              "    .dataframe thead th {\n",
              "        text-align: right;\n",
              "    }\n",
              "</style>\n",
              "<table border=\"1\" class=\"dataframe\">\n",
              "  <thead>\n",
              "    <tr style=\"text-align: right;\">\n",
              "      <th></th>\n",
              "      <th>AAPL</th>\n",
              "    </tr>\n",
              "  </thead>\n",
              "  <tbody>\n",
              "    <tr>\n",
              "      <th>2019-03-29</th>\n",
              "      <td>177.980709</td>\n",
              "    </tr>\n",
              "    <tr>\n",
              "      <th>2019-04-01</th>\n",
              "      <td>178.500682</td>\n",
              "    </tr>\n",
              "    <tr>\n",
              "      <th>2019-04-02</th>\n",
              "      <td>179.109283</td>\n",
              "    </tr>\n",
              "    <tr>\n",
              "      <th>2019-04-03</th>\n",
              "      <td>179.746174</td>\n",
              "    </tr>\n",
              "    <tr>\n",
              "      <th>2019-04-04</th>\n",
              "      <td>180.371422</td>\n",
              "    </tr>\n",
              "  </tbody>\n",
              "</table>\n",
              "</div>"
            ],
            "text/plain": [
              "                  AAPL\n",
              "2019-03-29  177.980709\n",
              "2019-04-01  178.500682\n",
              "2019-04-02  179.109283\n",
              "2019-04-03  179.746174\n",
              "2019-04-04  180.371422"
            ]
          },
          "metadata": {
            "tags": []
          },
          "execution_count": 60
        }
      ]
    },
    {
      "metadata": {
        "id": "fCDcvJ-4yZbG",
        "colab_type": "code",
        "colab": {}
      },
      "cell_type": "code",
      "source": [
        "dydxAvg = 0\n",
        "dydx2Avg = 0\n",
        "dydxList = []\n",
        "dydx2List = []\n",
        "\n",
        "def CalcDydx(l):\n",
        "    global dydxList\n",
        "    global dydxAvg\n",
        "    dx = 1\n",
        "    dydxList = list(numpy.diff(smaList) / dx)\n",
        "    dydxAvg = mean(dydxList)\n",
        "\n",
        "def calcDydx2():\n",
        "    global dydx2List\n",
        "    global dydx2Avg\n",
        "    dx = 1\n",
        "    dydx2List = list(numpy.diff(dydxList) / dx)\n",
        "    dydx2Avg = mean(dydx2List)\n",
        "\n",
        "\n",
        "calcDydx()\n",
        "print(\"Dydx Length=%d\" %len(dydxList))\n",
        "print(\"Dydx2 Length=%d\" %len(dydx2List))\n",
        "printList(dydxList, \"dy/dx List\")\n",
        "printList(dydx2List, \"d2y/dx2 List\")"
      ],
      "execution_count": 0,
      "outputs": []
    },
    {
      "metadata": {
        "id": "BsdacFpdyZbN",
        "colab_type": "code",
        "colab": {}
      },
      "cell_type": "code",
      "source": [
        "#  (12 * (p0 / p1 – 1))\n",
        "# + (4 * (p0 / p3 – 1))\n",
        "# + (2 * (p0 / p6 – 1))\n",
        "# +      (p0 / p12 – 1)\n",
        "# Where p0 = the asset price at today’s close, \n",
        "# p1 = the asset price at the close of the previous month, etc.\n",
        "\n",
        "today = datetime.datetime.today().strftime('%Y/%m/%d')\n",
        "momentum = [0 for x in range(0,4)]\n",
        "confidence = 0\n",
        "\n",
        "def dayDif(d1, d2):\n",
        "    d1 = datetime.strptime(d1, '%Y/%m/%d')\n",
        "    d2 = datetime.strptime(d2, '%Y/%m/%d')\n",
        "    return abs((d2 - d1).days)\n",
        "    \n",
        "def calcMomentum():\n",
        "    global momentum\n",
        "    p0=0.0; p1=0.0; p3=0.0; p6=0.0; p12=0.0\n",
        "    months = ['12','11','10','09','08','07','06','05','04','03','02','01','12','11','10','09','08','07','06','05','04','03','02','01']\n",
        "    p0_mn = dateList[0][5:7] # current month\n",
        "    p1_mn = months[months.index(p0_mn)+1]\n",
        "    p3_mn = months[months.index(p0_mn)+3]\n",
        "    p6_mn = months[months.index(p0_mn)+6]\n",
        "    p12_mn = months[months.index(p0_mn)+12]\n",
        "    \n",
        "    #print(\"p0_mn=%s, p1_mn=%s, p3_mn=%s, p6_mn=%s, p12_mn=%s\" %(p0_mn,p1_mn,p3_mn,p6_mn,p12_mn))\n",
        "    for d in dateList:\n",
        "        dates = d.split(\"/\")\n",
        "        if dates[1] == p0_mn and p0 == 0:\n",
        "            p0 = float(closeDic[d])\n",
        "            #print(\"%s : p0=%f\\n\" %(d,p0))\n",
        "        elif dates[1] == p1_mn and p1 == 0:\n",
        "            p1 = float(closeDic[d])\n",
        "            #print(\"%s : p1=%f\\n\" %(d,p1))\n",
        "        elif dates[1] == p3_mn and p3 == 0:\n",
        "            p3 = float(closeDic[d])\n",
        "            #print(\"%s : p3=%f\\n\" %(d,p3))\n",
        "        elif dates[1] == p6_mn and p6 == 0:\n",
        "            p6 = float(closeDic[d])\n",
        "            #print(\"%s : p6=%f\\n\" %(d,p6))\n",
        "        elif dates[1] == p12_mn and p12 == 0 and p6 != 0: \n",
        "            p12 = float(closeDic[d])\n",
        "            #print(\"%s : p12=%f\\n\" %(d,p12))\n",
        "            break\n",
        "    \n",
        "    #print(\"p0=%f, p1=%f, p3=%f, p6=%f, p12=%f\" %(p0,p1,p3,p6,p12))\n",
        "    momentum[0] = 12 * (p0 / p1 - 1)\n",
        "    momentum[1] = 4 * (p0 / p3 - 1)\n",
        "    momentum[2] = 2 * (p0 / p6 - 1)\n",
        "    momentum[3] = 1 * (p0 / p12 - 1)\n",
        "    print(\"momentum[0]=%f \\nmomentum[1]=%f \\nmomentum[2]=%f\\nmomentum[3]=%f\" %(momentum[0],momentum[1],momentum[2],momentum[3]))\n",
        "    confidence = momentum[0] + momentum[1] + momentum[2] + momentum[3]\n",
        "    return confidence\n",
        "\n",
        "\n",
        "print(\"Today is %s\" %today)\n",
        "confidence = calcMomentum()\n",
        "print(\"Confidence: %f\" %confidence)\n",
        "#printDateList()\n",
        "printList(momentum, \"Momentum List\")"
      ],
      "execution_count": 0,
      "outputs": []
    },
    {
      "metadata": {
        "id": "ha-WJIa6yZbU",
        "colab_type": "code",
        "colab": {}
      },
      "cell_type": "code",
      "source": [
        "ema10List = [None for x in closeList]\n",
        "ema10Dic = {}\n",
        "\n",
        "\n",
        "# starts from bottom of list\n",
        "def calcEMA(start, period, emaList, emaDic,smaList):\n",
        "    if period == 10: smaList = sma10List\n",
        "    elif period == 50: smaList = sma50List\n",
        "    \n",
        "    print(\"params: %d, %d - \" %(start,period))\n",
        "    if start == 0:\n",
        "        return\n",
        "    if start > len(closeList)-period-1:\n",
        "        print(start)\n",
        "        print(len(smaList))\n",
        "        #print(smaList[start])\n",
        "        emaList.insert(start,smaList[start])\n",
        "        emaDic[dateList[start]] = smaList[start]\n",
        "    else:\n",
        "        smoothing = 2 / (period + 1)\n",
        "        w = smoothing / (period + 1)\n",
        "        #print(len(emaList))\n",
        "        ema = (closeList[start] * w) + (emaList[start+1] * (1 - w))\n",
        "        #print(\"EMA=%f - \" %ema, end=\"\")\n",
        "        if ema != 0:\n",
        "            emaList.insert(start,ema)\n",
        "            emaDic[dateList[start]] = ema\n",
        "        #print(emaList[start])\n",
        "    calcEMA(start-1,period,emaList,emaDic,smaList)\n",
        "    return emaList,emaDic\n",
        "\n",
        "'''\n",
        "def calcSMA(start, period, smaList, smaDic):\n",
        "    if start+period-1 == len(closeList):\n",
        "        return\n",
        "    sma = mean(closeList[start:period+start])\n",
        "    smaList.insert(start,sma)\n",
        "    smaDic[dateList[start+period-1]] = sma\n",
        "    calcSMA(start+1, period, smaList, smaDic)\n",
        "    return smaList, smaDic\n",
        "'''\n",
        "\n",
        "ema10List,ema10Dic = calcEMA(len(closeList)-1,10,ema10List,ema10Dic,sma10List)\n",
        "#ema10List = calcEMA2(len(closeList)-1,10,ema10List,ema10Dic)\n",
        "#ema10List = ema10List.reverse()\n",
        "#printDic(ema10Dic, \"EMA 10 Dictionary\")"
      ],
      "execution_count": 0,
      "outputs": []
    },
    {
      "metadata": {
        "id": "KEe-1kc2yZbc",
        "colab_type": "code",
        "colab": {}
      },
      "cell_type": "code",
      "source": [
        "legendList = [\"Close\", \"50-day SMA\", \"10-day SMA \",\"EMA\"]\n",
        "\n",
        "def graph(*args): \n",
        "    i = 0 \n",
        "    for arg in args:\n",
        "        #arg = scale(arg)\n",
        "        x = [z for z in range(0,len(arg))]\n",
        "        y = []\n",
        "        for v in arg:\n",
        "            y.append(float(v))\n",
        "        y.reverse()\n",
        "        plt.plot(x,y,label=legendList[i])\n",
        "        i += 1\n",
        "def plotGraph(): \n",
        "    plt.figure(figsize=(12,7)) \n",
        "    plt.style.use('seaborn-white') \n",
        "    tmp = list(ema10Dic.values())\n",
        "    print(tmp)\n",
        "    graph(sma50List,sma10List,closeList,tmp)\n",
        "    plt.title(\"Apple\")\n",
        "    plt.ylabel(\"Price\")\n",
        "    plt.xlabel(\"Days\")\n",
        "    plt.legend(loc = 1, frameon = True, fancybox = True, shadow = True)    \n",
        "    plt.show()\n",
        "\n",
        "plotGraph()"
      ],
      "execution_count": 0,
      "outputs": []
    },
    {
      "metadata": {
        "id": "fhRjr5SGyZbj",
        "colab_type": "code",
        "colab": {}
      },
      "cell_type": "code",
      "source": [
        ""
      ],
      "execution_count": 0,
      "outputs": []
    }
  ]
}